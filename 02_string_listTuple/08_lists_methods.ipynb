{
 "cells": [
  {
   "cell_type": "raw",
   "id": "a1d83c7c",
   "metadata": {},
   "source": [
    "---\n",
    "title: Python - Lists Methods\n",
    "layout: default\n",
    "---"
   ]
  },
  {
   "cell_type": "markdown",
   "id": "6033b038",
   "metadata": {},
   "source": [
    "## String Methods\n",
    "\n",
    "### Manipulation Methods\n",
    "\n",
    "* change the list\n",
    "* do not return a value"
   ]
  },
  {
   "cell_type": "code",
   "execution_count": null,
   "id": "a941a004",
   "metadata": {},
   "outputs": [],
   "source": [
    "lst.append(item)\n",
    "# add item to the end of lst\n",
    "\n",
    "mylist = [2,4,8,16]\n",
    "mylist.append(32)\n",
    "print(mylist)\n",
    "# Output\n",
    "[2,4,8,16,32]"
   ]
  },
  {
   "cell_type": "markdown",
   "id": "b232a048",
   "metadata": {},
   "source": [
    "### Insert Methods"
   ]
  },
  {
   "cell_type": "code",
   "execution_count": null,
   "id": "ed61d392",
   "metadata": {},
   "outputs": [],
   "source": [
    "lst.insert(index,item)\n",
    "# insert item at index in lst\n",
    "mylist = [2,4,8,16]\n",
    "mylist.append(0,100)\n",
    "print(mylist)\n",
    "# Output\n",
    "[100,2,4,8,16]\n"
   ]
  },
  {
   "cell_type": "markdown",
   "id": "8db3adfa",
   "metadata": {},
   "source": [
    "### Clear Methods"
   ]
  },
  {
   "cell_type": "code",
   "execution_count": null,
   "id": "8c2162b4",
   "metadata": {},
   "outputs": [],
   "source": [
    "lst.clear()\n",
    "# remove all the items in lst\n",
    "mylist = [2,4,8,16]\n",
    "mylist.clear()\n",
    "print(mylist)\n",
    "# Output\n",
    "[]"
   ]
  },
  {
   "cell_type": "markdown",
   "id": "5862eddc",
   "metadata": {},
   "source": [
    "### Remove Methods"
   ]
  },
  {
   "cell_type": "code",
   "execution_count": null,
   "id": "2dd7ca6b",
   "metadata": {},
   "outputs": [],
   "source": [
    "lst.remoce(item)\n",
    "# remove item from lst, ValueError when item is not found\n",
    "mylist = [2,4,8,16]\n",
    "mylist.remove(8)\n",
    "print(mylist)\n",
    "# Output\n",
    "[2,4,16]"
   ]
  },
  {
   "cell_type": "markdown",
   "id": "970cc88b",
   "metadata": {},
   "source": [
    "### Sort Methods"
   ]
  },
  {
   "cell_type": "code",
   "execution_count": null,
   "id": "68403b8a",
   "metadata": {},
   "outputs": [],
   "source": [
    "lst.sort(reverse=False)\n",
    "# sort the items in lst, if reverse is True, sort in descending order\n",
    "mylist1 = [3,2,4,-1,7]\n",
    "mylist1.sort()\n",
    "print(mylist1)\n",
    "# Output\n",
    "[-1,2,3,4,7]\n",
    "mylist2 = ['c','d','a','b']\n",
    "mylist2.sort(reverse=True)\n",
    "print(mylist2)\n",
    "# Output\n",
    "['d','c','b','a']\n"
   ]
  },
  {
   "cell_type": "markdown",
   "id": "bb08d080",
   "metadata": {},
   "source": [
    "### Reversed Method"
   ]
  },
  {
   "cell_type": "code",
   "execution_count": null,
   "id": "7abd98ef",
   "metadata": {},
   "outputs": [],
   "source": [
    "mylist1 = [2,4,8,16,2]\n",
    "mylist.reverse()\n",
    "print(mylist)\n",
    "# Output\n",
    "[2,16,8,4,2]\n"
   ]
  },
  {
   "cell_type": "markdown",
   "id": "af76f69e",
   "metadata": {},
   "source": [
    "### Conversion Methods\n",
    "\n",
    "* Convert a string to a list\n",
    "* Convert a list to string\n",
    "* conversation methods are sting methods that work with lists\n",
    "\n",
    "### Split method"
   ]
  },
  {
   "cell_type": "code",
   "execution_count": null,
   "id": "02d23690",
   "metadata": {},
   "outputs": [],
   "source": [
    "string.split()\n",
    "# return a list of strings seperated by one or more spaces from string\n",
    "\n",
    "print(\"Monday Wednesday Friday\".split())\n",
    "# Output\n",
    "['Monday', 'Wednesday', 'Friday']"
   ]
  },
  {
   "cell_type": "markdown",
   "id": "614da3a3",
   "metadata": {},
   "source": [
    "### Split Method"
   ]
  },
  {
   "cell_type": "code",
   "execution_count": null,
   "id": "f76159c4",
   "metadata": {},
   "outputs": [],
   "source": [
    "string.join(string_list)\n",
    "# return a string of each item in string_list joined by a given string\n",
    "\n",
    "months = [\"Jan\", \"Feb\", \"Mar\", \"April\"]\n",
    "months_string = \",\".join(months)\n",
    "print(months_string)\n",
    "# Output\n",
    "Jan, Feb, Mar, April"
   ]
  }
 ],
 "metadata": {
  "jupytext": {
   "cell_metadata_filter": "-all",
   "main_language": "python",
   "notebook_metadata_filter": "-all"
  }
 },
 "nbformat": 4,
 "nbformat_minor": 5
}
