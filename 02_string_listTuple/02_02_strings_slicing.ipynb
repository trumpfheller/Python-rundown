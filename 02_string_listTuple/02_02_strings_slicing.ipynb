{
 "cells": [
  {
   "cell_type": "raw",
   "id": "e6359c38",
   "metadata": {},
   "source": [
    "---\n",
    "title: Python - String Indexing and Slicing\n",
    "layout: default\n",
    "---"
   ]
  },
  {
   "cell_type": "markdown",
   "id": "51f77a3d",
   "metadata": {},
   "source": [
    "## String Indexing and Slicing\n",
    "\n",
    "### String Indexing\n",
    "\n",
    "* Examining parts of a string is a common operation\n",
    "* Each character is a sting is referred to by an be index\n",
    "  * 0 refers to the first character\n",
    "  * length of the string minus 1 refers to the last character\n",
    "\n",
    "### Index operator\n",
    "\n",
    "* consists of square brakets\n",
    "\n",
    "**Syntax**"
   ]
  },
  {
   "cell_type": "code",
   "execution_count": null,
   "id": "c99151a6",
   "metadata": {},
   "outputs": [],
   "source": [
    "    string[index]"
   ]
  },
  {
   "cell_type": "markdown",
   "id": "ae325e87",
   "metadata": {},
   "source": [
    "* return the item in string at index\n",
    "\n",
    "s = \"UC Berkeley\"\n",
    "\n",
    "Index         0   1   2     3   4   5   6   7   8   9   10\n",
    "Character     U   C         B   e   r   k   e   l   e   y\n",
    "\n",
    "### Negative Indexes\n",
    "\n",
    "* Indexes can also be negative\n",
    "  * -1 (last character)\n",
    "  * -len(s) (first character)\n",
    "  * -len(s) + n (nth positive index)\n",
    "  A generatlized formula to convert positive indexes\n",
    "\n",
    "### Negative Indexes Example\n",
    "\n",
    "s = \"UC Berkeley\"\n",
    "\n",
    "Index         -11   -10  -9   -8   -7   -6   -5   -4   -3   -2   -1\n",
    "Character     U     C          B   e    r    k    e    k    e    y\n",
    "\n",
    "### String slicing\n",
    "\n",
    "* A range or substring of characters\n",
    "* a Slice has two indexes:\n",
    "  * start index - beginning of a slice\n",
    "  * stop index - the end of a slice (exclusive)\n",
    "    * character under the stop index itself is excluded\n",
    "\n",
    "s = \"UC Berkeley\"\n",
    "\n",
    "Index         0   1   2     3   4   5   6   7   8   9   10\n",
    "Character     U   C         B   e   r   k   e   k   e   y"
   ]
  },
  {
   "cell_type": "code",
   "execution_count": null,
   "id": "ba7198f2",
   "metadata": {},
   "outputs": [],
   "source": [
    "s[3:11]\n",
    "#Output\n",
    "Berkeley"
   ]
  },
  {
   "cell_type": "markdown",
   "id": "56f0e252",
   "metadata": {},
   "source": [
    "### Index operator (Slice) "
   ]
  },
  {
   "cell_type": "code",
   "execution_count": null,
   "id": "e933818f",
   "metadata": {},
   "outputs": [],
   "source": [
    "string[start:stop]"
   ]
  },
  {
   "cell_type": "markdown",
   "id": "1b8f67af",
   "metadata": {},
   "source": [
    "* return the slice of string starting at index start and ending at index stop(exclusive)\n",
    "\n",
    "### Default Slice Values Examples\n",
    "\n",
    "* stop index"
   ]
  },
  {
   "cell_type": "code",
   "execution_count": null,
   "id": "09bbe859",
   "metadata": {},
   "outputs": [],
   "source": [
    "s[:stop]\n",
    "# equivalent\n",
    "s[0:stop]"
   ]
  },
  {
   "cell_type": "markdown",
   "id": "db8bbbef",
   "metadata": {},
   "source": [
    "* Default Slice Example"
   ]
  },
  {
   "cell_type": "code",
   "execution_count": 2,
   "id": "05138297",
   "metadata": {},
   "outputs": [
    {
     "name": "stdout",
     "output_type": "stream",
     "text": [
      "University\n",
      "University\n"
     ]
    }
   ],
   "source": [
    "s = \"University of California\"\n",
    "print(s[0:10])\n",
    "print(s[:10])\n"
   ]
  },
  {
   "cell_type": "markdown",
   "id": "6e3d8093",
   "metadata": {},
   "source": [
    "### Default Slice Values "
   ]
  },
  {
   "cell_type": "code",
   "execution_count": null,
   "id": "0191cc23",
   "metadata": {},
   "outputs": [],
   "source": [
    "s[start:]\n",
    "# equivalent\n",
    "s[start:len(s)]\n",
    "# stop index of the length of s"
   ]
  },
  {
   "cell_type": "markdown",
   "id": "1a66ae17",
   "metadata": {},
   "source": [
    "* Slice Default Example"
   ]
  },
  {
   "cell_type": "code",
   "execution_count": 1,
   "id": "82c41492",
   "metadata": {},
   "outputs": [
    {
     "name": "stdout",
     "output_type": "stream",
     "text": [
      "of California\n",
      "of California\n"
     ]
    }
   ],
   "source": [
    "s = \"University of California\"\n",
    "print(s[11:len(s)])\n",
    "print(s[11:])\n"
   ]
  }
 ],
 "metadata": {
  "jupytext": {
   "cell_metadata_filter": "-all",
   "main_language": "python",
   "notebook_metadata_filter": "-all"
  },
  "kernelspec": {
   "display_name": ".venv",
   "language": "python",
   "name": "python3"
  },
  "language_info": {
   "codemirror_mode": {
    "name": "ipython",
    "version": 3
   },
   "file_extension": ".py",
   "mimetype": "text/x-python",
   "name": "python",
   "nbconvert_exporter": "python",
   "pygments_lexer": "ipython3",
   "version": "3.12.3"
  }
 },
 "nbformat": 4,
 "nbformat_minor": 5
}
