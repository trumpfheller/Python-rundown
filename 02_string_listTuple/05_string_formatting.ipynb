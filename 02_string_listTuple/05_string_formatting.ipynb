{
 "cells": [
  {
   "cell_type": "raw",
   "id": "9e3da16a",
   "metadata": {},
   "source": [
    "---\n",
    "title: Python - String Formatting\n",
    "layout: default\n",
    "---"
   ]
  },
  {
   "cell_type": "markdown",
   "id": "07561956",
   "metadata": {},
   "source": [
    "## String Methods\n",
    "\n",
    "### Building Strings\n",
    "\n",
    "* Concatenate operator to combine strings"
   ]
  },
  {
   "cell_type": "code",
   "execution_count": null,
   "id": "e67e9f50",
   "metadata": {},
   "outputs": [],
   "source": [
    "str(object)\n",
    "# return a string from a given object"
   ]
  },
  {
   "cell_type": "markdown",
   "id": "74003544",
   "metadata": {},
   "source": [
    "* operands must be strings\n",
    "* Use the strin fuction to convert other types to strings"
   ]
  },
  {
   "cell_type": "code",
   "execution_count": null,
   "id": "f99688f6",
   "metadata": {},
   "outputs": [],
   "source": [
    "mean = (1+2+3+4) / 4\n",
    "print('the aver is: ' + mean + '.')\n",
    "# Output \n",
    "Typeerror: can only concatenate str (not float) to str\n",
    "\n",
    "print('the aver is: ' + str(mean) + '.')\n",
    "# Output \n",
    "the aver is: 2.5."
   ]
  },
  {
   "cell_type": "markdown",
   "id": "b8c69dc7",
   "metadata": {},
   "source": [
    "### Formatted String Literals\n",
    "\n",
    "* also called formated string literals of f-strings\n",
    "* use replacemnt fields\n",
    "  * Placeholders where a vlaue will appear\n",
    "  * Indicated by {} and a value"
   ]
  },
  {
   "cell_type": "code",
   "execution_count": null,
   "id": "4b2cb469",
   "metadata": {},
   "outputs": [],
   "source": [
    "mean = (1+2+3+4) / 4\n",
    "print(f'the aver is: {mean}.')"
   ]
  },
  {
   "cell_type": "markdown",
   "id": "c8dc85e2",
   "metadata": {},
   "source": [
    "### Format specifiers\n",
    "\n",
    "* codes to change the appearance of replacement fiuelds\n",
    "* placed after the value and a colon in the replacement field\n",
    "  * {value: format_specifier}\n",
    "* Examples\n",
    "  * currency\n",
    "  * floating point\n",
    "  * width and alignment"
   ]
  },
  {
   "cell_type": "code",
   "execution_count": null,
   "id": "94712c73",
   "metadata": {},
   "outputs": [],
   "source": [
    ",.2f\n",
    "\n",
    "# , thousands seperator\n",
    "# .2f two digits after the decimal point"
   ]
  },
  {
   "cell_type": "code",
   "execution_count": null,
   "id": "75e98709",
   "metadata": {},
   "outputs": [],
   "source": [
    "price = 12345.6\n",
    "print(f'the price is: {price}.')\n",
    "print(f'the price is: {price:,.2f}.')"
   ]
  },
  {
   "cell_type": "markdown",
   "id": "26a861d8",
   "metadata": {},
   "source": [
    "### Floating point\n",
    "\n",
    "* .[digits]f"
   ]
  },
  {
   "cell_type": "code",
   "execution_count": null,
   "id": "d55cc9fb",
   "metadata": {},
   "outputs": [],
   "source": [
    "pi = 3.14159\n",
    "print(f'pi with 3 digits: {pi:,.3f}.')x "
   ]
  },
  {
   "cell_type": "markdown",
   "id": "75ca7090",
   "metadata": {},
   "source": [
    "### Alignment and Width\n",
    "\n",
    "* <,^,>"
   ]
  },
  {
   "cell_type": "code",
   "execution_count": null,
   "id": "c6fa1dc8",
   "metadata": {},
   "outputs": [],
   "source": [
    "city = 'Berkeley'\n",
    "print(f'|{city:<20}|')\n",
    "print(f'|{city:^20}|')\n",
    "print(f'|{city:>20}|')\n",
    "\n",
    "# Output\n",
    "|Berkeley           |\n",
    "|       Berkeley    |\n",
    "|           Berkeley|"
   ]
  }
 ],
 "metadata": {
  "jupytext": {
   "cell_metadata_filter": "-all",
   "main_language": "python",
   "notebook_metadata_filter": "-all"
  }
 },
 "nbformat": 4,
 "nbformat_minor": 5
}
