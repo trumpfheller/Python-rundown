{
 "cells": [
  {
   "cell_type": "markdown",
   "id": "d444fea4-7e62-4456-8829-44053c63770e",
   "metadata": {},
   "source": [
    "## String Methods\n",
    "\n",
    "* Comparison Methods\n",
    "* Search Methods\n",
    "* Replacement Method\n",
    "* Strip Method\n",
    "* Validation Methods\n",
    "* Case Conversion"
   ]
  },
  {
   "cell_type": "markdown",
   "id": "9b993a83-95ca-4292-ba10-5762747bd5b9",
   "metadata": {},
   "source": [
    "### Comparison Methods"
   ]
  },
  {
   "cell_type": "code",
   "execution_count": 3,
   "id": "e52ce317",
   "metadata": {},
   "outputs": [
    {
     "data": {
      "text/plain": [
       "False"
      ]
     },
     "execution_count": 3,
     "metadata": {},
     "output_type": "execute_result"
    }
   ],
   "source": [
    "s = \"UC Berkeley\"\n",
    "substr = \"erk\"\n",
    "\n",
    "s.startswith(substr)\n",
    "# check if s starts with substr (as an argument)"
   ]
  },
  {
   "cell_type": "code",
   "execution_count": 4,
   "id": "3333c3c9-c957-4f39-8860-7b0bb35be829",
   "metadata": {},
   "outputs": [
    {
     "data": {
      "text/plain": [
       "True"
      ]
     },
     "execution_count": 4,
     "metadata": {},
     "output_type": "execute_result"
    }
   ],
   "source": [
    "\n",
    "s = \"UC Berkeley\"\n",
    "substr = \"ley\"\n",
    "s.endswith(substr)\n",
    "# check if s ends with substr"
   ]
  },
  {
   "cell_type": "markdown",
   "id": "5fb9d8ff-b277-4afa-aa53-94888ee4d82d",
   "metadata": {},
   "source": [
    "### Comparison Methods Example"
   ]
  },
  {
   "cell_type": "code",
   "execution_count": null,
   "id": "519345af-628a-48dd-aeaf-e968dbdd1759",
   "metadata": {},
   "outputs": [
    {
     "name": "stdout",
     "output_type": "stream",
     "text": [
      "True\n",
      "False\n"
     ]
    }
   ],
   "source": [
    "s = \"UC Berkeley\"\n",
    "print(s.startswith(\"UC\"))\n",
    "print(s.endswith(\"LEY\"))"
   ]
  },
  {
   "cell_type": "markdown",
   "id": "36a40f61-5a01-41c7-97d4-ba48fe2f68e0",
   "metadata": {},
   "source": [
    "### Search Methods"
   ]
  },
  {
   "cell_type": "code",
   "execution_count": null,
   "id": "f4469620-3ab0-401d-bb3a-ea06c8b89a00",
   "metadata": {},
   "outputs": [
    {
     "name": "stdout",
     "output_type": "stream",
     "text": [
      "3\n"
     ]
    },
    {
     "ename": "ValueError",
     "evalue": "substring not found",
     "output_type": "error",
     "traceback": [
      "\u001b[31m---------------------------------------------------------------------------\u001b[39m",
      "\u001b[31mValueError\u001b[39m                                Traceback (most recent call last)",
      "\u001b[36mCell\u001b[39m\u001b[36m \u001b[39m\u001b[32mIn[5]\u001b[39m\u001b[32m, line 3\u001b[39m\n\u001b[32m      1\u001b[39m s = \u001b[33m\"\u001b[39m\u001b[33mUC Berkeley\u001b[39m\u001b[33m\"\u001b[39m\n\u001b[32m      2\u001b[39m \u001b[38;5;28mprint\u001b[39m(s.index(\u001b[33m\"\u001b[39m\u001b[33mBerkeley\u001b[39m\u001b[33m\"\u001b[39m))\n\u001b[32m----> \u001b[39m\u001b[32m3\u001b[39m \u001b[38;5;28mprint\u001b[39m(\u001b[43ms\u001b[49m\u001b[43m.\u001b[49m\u001b[43mindex\u001b[49m\u001b[43m(\u001b[49m\u001b[33;43m\"\u001b[39;49m\u001b[33;43m3\u001b[39;49m\u001b[33;43m\"\u001b[39;49m\u001b[43m)\u001b[49m)\n",
      "\u001b[31mValueError\u001b[39m: substring not found"
     ]
    }
   ],
   "source": [
    "s = \"UC Berkeley\"\n",
    "print(s.index(\"Berkeley\"))\n",
    "print(s.index(\"3\"))"
   ]
  },
  {
   "cell_type": "code",
   "execution_count": null,
   "id": "3ab9172e-8520-4292-b6ae-f6085bc9705a",
   "metadata": {},
   "outputs": [],
   "source": []
  }
 ],
 "metadata": {
  "kernelspec": {
   "display_name": ".venv",
   "language": "python",
   "name": "python3"
  },
  "language_info": {
   "codemirror_mode": {
    "name": "ipython",
    "version": 3
   },
   "file_extension": ".py",
   "mimetype": "text/x-python",
   "name": "python",
   "nbconvert_exporter": "python",
   "pygments_lexer": "ipython3",
   "version": "3.12.3"
  }
 },
 "nbformat": 4,
 "nbformat_minor": 5
}
