{
 "cells": [
  {
   "cell_type": "raw",
   "id": "589f4ad7",
   "metadata": {},
   "source": [
    "---\n",
    "title: Python - String Operators and Functions\n",
    "layout: default\n",
    "---"
   ]
  },
  {
   "cell_type": "markdown",
   "id": "a5d4e777",
   "metadata": {},
   "source": [
    "## String Function and Operators\n",
    "\n",
    "### String Length function\n",
    "\n",
    "* return the length of string (total number of characters)"
   ]
  },
  {
   "cell_type": "code",
   "execution_count": null,
   "id": "b977b5b4",
   "metadata": {},
   "outputs": [],
   "source": [
    "len(string)"
   ]
  },
  {
   "cell_type": "markdown",
   "id": "b0f2b205",
   "metadata": {},
   "source": [
    "### Comparison operator\n",
    "\n",
    "str1 == str2 equality\n",
    "str1 !== str2 non equality\n",
    "str1 > str2 greater than\n",
    "str1 < str2 less than\n",
    "str1 >= str2 greater than or\n",
    "str1 <>= str2 less than or equal\n",
    "\n",
    "* compared character by character\n",
    "* start at index 0\n",
    "* Two strings are equal when they have\n",
    "  * the same order of characters\n",
    "  * the same number characters\n",
    "\n",
    "### Ord Function\n",
    "\n",
    "* return integer Unicode of character\n",
    "* internally, comparison operators use the ord function"
   ]
  },
  {
   "cell_type": "code",
   "execution_count": null,
   "id": "dda8a2ad",
   "metadata": {},
   "outputs": [],
   "source": [
    "ord(character)"
   ]
  },
  {
   "cell_type": "markdown",
   "id": "045d5645",
   "metadata": {},
   "source": [
    "### Comparison operator Example"
   ]
  },
  {
   "cell_type": "code",
   "execution_count": null,
   "id": "c4c78674",
   "metadata": {},
   "outputs": [],
   "source": [
    "print(\"apple\" < \"banana\")\n",
    "print(ord(\"a\"), ord(\"b\"))\n",
    "print(\"apple\" < \"Blueberry\")\n",
    "print(ord(\"a\"), ord(\"B\"))\n",
    "# Output\n",
    "True\n",
    "97 98\n",
    "False\n",
    "97 66"
   ]
  },
  {
   "cell_type": "markdown",
   "id": "982c4028",
   "metadata": {},
   "source": [
    "### Concatenation operator\n",
    "\n",
    "str1 + str2\n",
    "\n",
    "### String Append Examples"
   ]
  },
  {
   "cell_type": "code",
   "execution_count": null,
   "id": "4b211bc4",
   "metadata": {},
   "outputs": [],
   "source": [
    "a = \"UC\"\n",
    "b = \"Berkeley\"\n",
    "c = a + \" \" +b\n",
    "print(c)\n",
    "# Output\n",
    "UC Berkeley"
   ]
  },
  {
   "cell_type": "markdown",
   "id": "276793fc",
   "metadata": {},
   "source": [
    "### Membership operator\n",
    "\n",
    "* check if substr is contained in string\n",
    "* returns a boolean string"
   ]
  },
  {
   "cell_type": "code",
   "execution_count": null,
   "id": "aa1686f2",
   "metadata": {
    "lines_to_next_cell": 0
   },
   "outputs": [],
   "source": [
    "substr in string"
   ]
  },
  {
   "cell_type": "code",
   "execution_count": null,
   "id": "86963997",
   "metadata": {},
   "outputs": [],
   "source": [
    "s = \"UC Berkeley\"\n",
    "print(\"Berkeley\" in s)\n",
    "\n",
    "# Output\n",
    "True"
   ]
  },
  {
   "cell_type": "markdown",
   "id": "cd2968f5",
   "metadata": {},
   "source": [
    "---\n",
    "\n",
    "||[back](../index.html)"
   ]
  }
 ],
 "metadata": {
  "jupytext": {
   "cell_metadata_filter": "-all",
   "main_language": "python",
   "notebook_metadata_filter": "-all"
  },
  "kernelspec": {
   "display_name": "Python 3 (ipykernel)",
   "language": "python",
   "name": "python3"
  },
  "language_info": {
   "codemirror_mode": {
    "name": "ipython",
    "version": 3
   },
   "file_extension": ".py",
   "mimetype": "text/x-python",
   "name": "python",
   "nbconvert_exporter": "python",
   "pygments_lexer": "ipython3",
   "version": "3.12.3"
  }
 },
 "nbformat": 4,
 "nbformat_minor": 5
}
