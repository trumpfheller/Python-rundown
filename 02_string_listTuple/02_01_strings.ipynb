{
 "cells": [
  {
   "cell_type": "markdown",
   "id": "37c856b0-d5b5-4794-9c57-40496102d863",
   "metadata": {},
   "source": [
    "## Strings\n",
    "\n",
    "* Containers of characters\n",
    "* Used for communicating to the user\n",
    "* used for processing data (files, network)"
   ]
  },
  {
   "cell_type": "markdown",
   "id": "488781b9-4082-4c86-a2c7-4095e63ae8ea",
   "metadata": {},
   "source": [
    "### Characters\n",
    "\n",
    "* Basic unit of a string\n",
    "* every letter, digit, symbol and emoji\n",
    "* have a claue that comes from the Unicode standard"
   ]
  },
  {
   "cell_type": "code",
   "execution_count": null,
   "id": "a1f16c68-0d0c-4900-86bc-640e48760826",
   "metadata": {},
   "outputs": [],
   "source": []
  }
 ],
 "metadata": {
  "kernelspec": {
   "display_name": "Python 3 (ipykernel)",
   "language": "python",
   "name": "python3"
  },
  "language_info": {
   "codemirror_mode": {
    "name": "ipython",
    "version": 3
   },
   "file_extension": ".py",
   "mimetype": "text/x-python",
   "name": "python",
   "nbconvert_exporter": "python",
   "pygments_lexer": "ipython3",
   "version": "3.12.3"
  }
 },
 "nbformat": 4,
 "nbformat_minor": 5
}
