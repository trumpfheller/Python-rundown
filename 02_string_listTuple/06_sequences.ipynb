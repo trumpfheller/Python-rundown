{
 "cells": [
  {
   "cell_type": "raw",
   "id": "d4bedd0a",
   "metadata": {},
   "source": [
    "---\n",
    "title: Python Sequences\n",
    "layout: default\n",
    "---"
   ]
  },
  {
   "cell_type": "markdown",
   "id": "9b5e8b99",
   "metadata": {},
   "source": [
    "## Sequences\n",
    "\n",
    "* Containers with a sequential series of items \n",
    "* have a deterministic order (no randomness involved)  (List ? )\n",
    "* support common operations, funtions and methods\n",
    "* represent an ordered collection of items. \n",
    "* allow you to store and access multiple items of data in a specific order. \n",
    "\n",
    "### Main characteristics:\n",
    "\n",
    "* **Order**: Items in a sequence are stored in a defined order, and you can access them by their position (index).\n",
    "\n",
    "* **Indexing**: Elements in a sequence can be accessed using indexing. Indexing starts at 0 for the first element, 1 for the second element, and so on.\n",
    "\n",
    "* **Slicing**: Sequences support slicing, which allows you to access a subset of the sequence by specifying a range of indices.\n",
    "\n",
    "* **Iterability**: Sequences can be iterated over using loops (e.g., for loop).\n",
    "\n",
    "* **Immutability or Mutability**: Depending on the specific sequence type, sequences can be mutable (modifiable after creation) or immutable (cannot be changed after creation).\n",
    "\n",
    "> | Sequence  | Mutable  |\n",
    "|:---:|:---:|\n",
    "|  List |  YES  |\n",
    "|  Tuple |  NO  |\n",
    "|  String |  NO  |\n",
    "|  Range |  NO  |\n",
    "\n",
    "Set and Dictionaries => no sequences.\n",
    "\n",
    "---\n",
    "\n",
    "* Sequences Equality and Inequality Operators"
   ]
  },
  {
   "cell_type": "code",
   "execution_count": null,
   "id": "301129be",
   "metadata": {},
   "outputs": [],
   "source": [
    "seq1 == seq2\n",
    "# check if same content\n",
    "seq1 != seq2\n",
    "# check if not have same content"
   ]
  },
  {
   "cell_type": "markdown",
   "id": "037dd626",
   "metadata": {},
   "source": [
    "* Sequences Index Operator"
   ]
  },
  {
   "cell_type": "code",
   "execution_count": null,
   "id": "621daae6",
   "metadata": {},
   "outputs": [],
   "source": [
    "sequence[n]\n",
    "# return nth item in sequence\n",
    "sequence[start:stop]\n",
    "# return slice with items between index start and stop (excusive) in sequence"
   ]
  },
  {
   "cell_type": "markdown",
   "id": "04275d99",
   "metadata": {},
   "source": [
    "* Sequences Membership Operator"
   ]
  },
  {
   "cell_type": "code",
   "execution_count": null,
   "id": "2af7d5f9",
   "metadata": {},
   "outputs": [],
   "source": [
    "item in sequence\n",
    "# check if an item exists in sequence"
   ]
  },
  {
   "cell_type": "markdown",
   "id": "467cafa6",
   "metadata": {},
   "source": [
    "* Sequence Concatenate Operator"
   ]
  },
  {
   "cell_type": "code",
   "execution_count": null,
   "id": "b564564c",
   "metadata": {},
   "outputs": [],
   "source": [
    "sequence1 + sequence2\n",
    "# must be of the same type"
   ]
  },
  {
   "cell_type": "markdown",
   "id": "8e8d15af",
   "metadata": {},
   "source": [
    "### Sequence Functions"
   ]
  },
  {
   "cell_type": "code",
   "execution_count": null,
   "id": "dff74497",
   "metadata": {},
   "outputs": [],
   "source": [
    "len(sequence)\n",
    "# return length\n",
    "\n",
    "max(sequence)\n",
    "# return largest value\n",
    "\n",
    "min(sequence)\n",
    "# return the smallerst value\n",
    "\n",
    "sorted(sequence, reverse=False)\n",
    "# return a list with items sorted in ascending order \n",
    "# if reverse is True, sort in descending\n",
    "\n",
    "reversed(sequence)\n",
    "# return a copy of a sequence in reverse order"
   ]
  },
  {
   "cell_type": "markdown",
   "id": "35bc660b",
   "metadata": {},
   "source": [
    "### Sequence Methods"
   ]
  },
  {
   "cell_type": "code",
   "execution_count": null,
   "id": "3f6c3e78",
   "metadata": {},
   "outputs": [],
   "source": [
    "sequence.count(item)\n",
    "# return the number of times item occurs in sequence\n",
    "\n",
    "sequence.index(item)\n",
    "# return the index of item in sequence, ValueError if not found"
   ]
  },
  {
   "cell_type": "markdown",
   "id": "a6fbec75",
   "metadata": {},
   "source": [
    "---\n",
    "\n",
    "> [back](../)"
   ]
  }
 ],
 "metadata": {
  "jupytext": {
   "cell_metadata_filter": "-all",
   "main_language": "python",
   "notebook_metadata_filter": "-all"
  }
 },
 "nbformat": 4,
 "nbformat_minor": 5
}
