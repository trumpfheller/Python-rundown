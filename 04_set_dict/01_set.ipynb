{
 "cells": [
  {
   "cell_type": "markdown",
   "id": "3675cf0e",
   "metadata": {},
   "source": [
    "## Sets\n",
    "\n",
    "* container of unique items\n",
    "* Can only contain immutable items\n",
    "  * numbers\n",
    "  * strings\n",
    "  * tuples\n",
    "\n",
    "* like dict without values, just keys (must be unique, like in a dict)\n",
    "* You can create a set from a list, string, tuple or dict, discarding any duplicate values\n",
    "* use it when you want to know if something exists\n",
    "\n",
    "> [documentation](https://docs.python.org/3/tutorial/datastructures.html#sets)\n",
    "\n",
    "### Set have a unique property\n",
    "\n",
    "* Although they are mutable, they follow a set condition\n",
    "  * adding an item that already exists will be rejected/will not be added.\n",
    "    This will maintain the set condition (all the items are unique).\n",
    "\n",
    "### Example - Set have a unique property\n",
    "\n",
    "* return a set with only unique items from containter."
   ]
  },
  {
   "cell_type": "code",
   "execution_count": 8,
   "id": "e34f4520",
   "metadata": {},
   "outputs": [
    {
     "name": "stdout",
     "output_type": "stream",
     "text": [
      "{1, 2, 3}\n"
     ]
    }
   ],
   "source": [
    "mylist = [1,2,3,3,2,1]\n",
    "myset = set(mylist)\n",
    "#passing a sequence (a data type that stores an ordered collection of items) \n",
    "# as an argument to the set function\n",
    "print(myset)\n",
    " \n",
    "# order of the Output set may be different on a nother machine or at another time."
   ]
  },
  {
   "cell_type": "markdown",
   "id": "42990b5b",
   "metadata": {},
   "source": [
    "* Sets are not sequences (a data type that stores an ordered collection of items).\n",
    "  * Items are **unordered**: order of the items is not guaranteed, not significant.\n",
    "  * No index operator.\n",
    "  * if ordered sequences is needed, convert to a list or tuple.\n",
    "  * `With sets we are mostly concerned about membership`."
   ]
  },
  {
   "cell_type": "code",
   "execution_count": null,
   "id": "1ae7129e",
   "metadata": {},
   "outputs": [
    {
     "name": "stdout",
     "output_type": "stream",
     "text": [
      "{1, 2, 3, 4, 5}\n"
     ]
    }
   ],
   "source": [
    "set1 = {1, 2, 3}\n",
    "set2 = {3, 4, 5}\n",
    "union_set = set1.union(set2) # or set1 | set2\n",
    "print(union_set)"
   ]
  },
  {
   "cell_type": "code",
   "execution_count": 9,
   "id": "2bd9e9e0",
   "metadata": {},
   "outputs": [
    {
     "name": "stdout",
     "output_type": "stream",
     "text": [
      "True\n",
      "False\n"
     ]
    }
   ],
   "source": [
    "# Creating a set\n",
    "animals = {\"dog\", \"cat\", \"rabbit\", \"bird\", \"turtle\"}\n",
    "\n",
    "# Check if an element is in the set\n",
    "print(\"cat\" in animals)  # Output: True\n",
    "print(\"snake\" in animals)  # Output: False"
   ]
  },
  {
   "cell_type": "markdown",
   "id": "83de6b8c",
   "metadata": {},
   "source": [
    "### Use case - Removing Duplicates\n",
    "* to handle collections of unique elements"
   ]
  },
  {
   "cell_type": "code",
   "execution_count": 32,
   "id": "67fac2ab",
   "metadata": {},
   "outputs": [
    {
     "name": "stdout",
     "output_type": "stream",
     "text": [
      "[1, 2, 3, 4, 5]\n"
     ]
    }
   ],
   "source": [
    "my_list = [1, 2, 2, 3, 4, 4, 5]\n",
    "unique_elements = list(set(my_list))\n",
    "    # unique_elements will be [1, 2, 3, 4, 5] (order not guaranteed)\n",
    "\n",
    "print(unique_elements)\n"
   ]
  },
  {
   "cell_type": "markdown",
   "id": "9b2bc390",
   "metadata": {},
   "source": [
    "### Use case - Membership Testing"
   ]
  },
  {
   "cell_type": "markdown",
   "id": "c275822f",
   "metadata": {},
   "source": [
    "* Sets are iterable:\n",
    "  * meaning, you can loop through each element in the set using a for loop."
   ]
  },
  {
   "cell_type": "code",
   "execution_count": 10,
   "id": "13aeac4c",
   "metadata": {},
   "outputs": [
    {
     "name": "stdout",
     "output_type": "stream",
     "text": [
      "Iterating over elements in the set:\n",
      "cherry\n",
      "apple\n",
      "banana\n",
      "orange\n"
     ]
    }
   ],
   "source": [
    "# Creating a set\n",
    "fruits = {\"apple\", \"banana\", \"cherry\", \"orange\"}\n",
    "\n",
    "# Using a for loop to iterate over elements in the set\n",
    "print(\"Iterating over elements in the set:\")\n",
    "for fruit in fruits:\n",
    "    print(fruit)"
   ]
  },
  {
   "cell_type": "markdown",
   "id": "b91e3898",
   "metadata": {},
   "source": [
    "### Use case - Finding common elements"
   ]
  },
  {
   "cell_type": "code",
   "execution_count": null,
   "id": "16ebdcdd",
   "metadata": {},
   "outputs": [
    {
     "name": "stdout",
     "output_type": "stream",
     "text": [
      "{3}\n"
     ]
    }
   ],
   "source": [
    "set1 = {1, 2, 3}\n",
    "set2 = {3, 4, 5}\n",
    "intersection_set = set1.intersection(set2) # or set1 & set2\n",
    "print(intersection_set)"
   ]
  },
  {
   "cell_type": "markdown",
   "id": "819d6345",
   "metadata": {},
   "source": [
    "* pass it to a len function"
   ]
  },
  {
   "cell_type": "code",
   "execution_count": 11,
   "id": "78708160",
   "metadata": {},
   "outputs": [
    {
     "name": "stdout",
     "output_type": "stream",
     "text": [
      "\n",
      "Number of fruits in the set: 4\n"
     ]
    }
   ],
   "source": [
    "fruits = {\"apple\", \"banana\", \"cherry\", \"orange\"}\n",
    "# Using the len() function to get the number of elements in the set\n",
    "num_fruits = len(fruits)\n",
    "print(\"\\nNumber of fruits in the set:\", num_fruits)"
   ]
  },
  {
   "cell_type": "markdown",
   "id": "ffb681db",
   "metadata": {},
   "source": [
    "### Set literals\n",
    "\n",
    "* using curly braces\n",
    "* items are seperated by comma\n",
    "* empty set is represented by a set function\n",
    "* Sets are created using curly braces {} or the `set()` constructor."
   ]
  },
  {
   "cell_type": "code",
   "execution_count": 12,
   "id": "ed6696c8",
   "metadata": {
    "lines_to_next_cell": 2
   },
   "outputs": [
    {
     "name": "stdout",
     "output_type": "stream",
     "text": [
      "{1, 2, 3, 4, 5}\n"
     ]
    }
   ],
   "source": [
    "set()\n",
    "#function call\n",
    "\n",
    "# Creating a set\n",
    "my_set = {1, 2, 3, 4, 5}\n",
    "print(my_set)  # Output: {1, 2, 3, 4, 5}"
   ]
  },
  {
   "cell_type": "markdown",
   "id": "47d44105",
   "metadata": {},
   "source": [
    "NOTE: it is not using curly braces to represent an empty set.\n",
    "Dictionaries are also using curly braces. => an empty set is relegated to a function call."
   ]
  },
  {
   "cell_type": "code",
   "execution_count": 28,
   "id": "44095acd",
   "metadata": {},
   "outputs": [
    {
     "data": {
      "text/plain": [
       "{(10, 20), (20, 20), (30, 40), (40, 30)}"
      ]
     },
     "execution_count": 28,
     "metadata": {},
     "output_type": "execute_result"
    }
   ],
   "source": [
    "#no duplicate items\n",
    "{-0.5,1,2,3,4,8,16}\n",
    "{\"info@berkeley.edu\", \"help@irs.gov\", \"data@wikipedia.com\"}\n",
    "{(10,20), (30,40), (40,30),(20,20)}"
   ]
  },
  {
   "cell_type": "markdown",
   "id": "30c5f5b7",
   "metadata": {},
   "source": [
    "### Set Functions - Syntax\n",
    "\n",
    "```text\n",
    "set(container)\n",
    "```"
   ]
  },
  {
   "cell_type": "markdown",
   "id": "07891507",
   "metadata": {},
   "source": [
    "### Set Operations"
   ]
  },
  {
   "cell_type": "markdown",
   "id": "36a790c1",
   "metadata": {},
   "source": [
    "set1 == set2\n",
    "set1 != set2\n",
    "item in set2 #membership operator"
   ]
  },
  {
   "cell_type": "markdown",
   "id": "7bad981d",
   "metadata": {},
   "source": [
    "* Compare sets"
   ]
  },
  {
   "cell_type": "code",
   "execution_count": 16,
   "id": "4e7d9863",
   "metadata": {},
   "outputs": [
    {
     "name": "stdout",
     "output_type": "stream",
     "text": [
      "{1, 2, 3, 4}\n"
     ]
    }
   ],
   "source": [
    "set1 = {1,2,3,4,4,4,3,3}\n",
    "print(set1)\n",
    "# Output => all unique {1,2,3,4}"
   ]
  },
  {
   "cell_type": "code",
   "execution_count": null,
   "id": "3f0aced3",
   "metadata": {},
   "outputs": [
    {
     "name": "stdout",
     "output_type": "stream",
     "text": [
      "{1, 2, 3, 4}\n",
      "True\n"
     ]
    }
   ],
   "source": [
    "set1 = {1,2,3,4,4,4,3,3}\n",
    "print(set1)\n",
    "print(set1 == {4,1,2,3})\n",
    "# compare set1 with values"
   ]
  },
  {
   "cell_type": "markdown",
   "id": "d9d50b6d",
   "metadata": {},
   "source": [
    "### Set Method `set.add(item)`\n",
    "\n",
    "* add item to set only if the item does not already exists\n",
    "* if it already exists, it does nothing"
   ]
  },
  {
   "cell_type": "code",
   "execution_count": 27,
   "id": "adc9eed5",
   "metadata": {},
   "outputs": [
    {
     "name": "stdout",
     "output_type": "stream",
     "text": [
      "{'d', 'a', 'b', 'c'}\n",
      "{'d', 'a', 'b', 'c'}\n"
     ]
    }
   ],
   "source": [
    "s1 = {'a','b','c'}\n",
    "s1.add('d')\n",
    "print(s1)\n",
    "s1.add('a')\n",
    "print(s1)\n"
   ]
  },
  {
   "cell_type": "markdown",
   "id": "6495d1e2",
   "metadata": {},
   "source": [
    "* remove item from set of the item does not exist, throw a KeyError exception `set.remove(item)`"
   ]
  },
  {
   "cell_type": "code",
   "execution_count": 26,
   "id": "6119f483",
   "metadata": {},
   "outputs": [
    {
     "name": "stdout",
     "output_type": "stream",
     "text": [
      "{'b', 'c'}\n"
     ]
    }
   ],
   "source": [
    "s1 = {'a','b','c'}\n",
    "s1.remove('a')\n",
    "print(s1)\n",
    "#s1.remove('d')\n",
    "#print(s1)\n"
   ]
  },
  {
   "cell_type": "markdown",
   "id": "e894dcba",
   "metadata": {},
   "source": [
    "* remove all items in set"
   ]
  },
  {
   "cell_type": "code",
   "execution_count": null,
   "id": "f424415d",
   "metadata": {},
   "outputs": [],
   "source": [
    "set.clear()"
   ]
  },
  {
   "cell_type": "markdown",
   "id": "55938afd",
   "metadata": {},
   "source": [
    "### Set comprehension - Syntax"
   ]
  },
  {
   "cell_type": "markdown",
   "id": "a5b08895",
   "metadata": {},
   "source": [
    "```python\n",
    "myset = {exp for item in iteravle if cond_exp}\n",
    "\n",
    "myset{}\n",
    "for item in iterable:\n",
    "    if cond_exp:\n",
    "        myset.add(exp)  \n",
    "```"
   ]
  },
  {
   "cell_type": "markdown",
   "id": "da0b4564",
   "metadata": {},
   "source": [
    "Example"
   ]
  },
  {
   "cell_type": "code",
   "execution_count": 22,
   "id": "579f14c4",
   "metadata": {},
   "outputs": [
    {
     "name": "stdout",
     "output_type": "stream",
     "text": [
      "[0, 0, 1, 1, 2, 2, 3, 3, 4, 4]\n"
     ]
    }
   ],
   "source": [
    "mylist = [n // 2 for n in range(10)]\n",
    "print(mylist)\n"
   ]
  },
  {
   "cell_type": "code",
   "execution_count": 21,
   "id": "bfff97c0",
   "metadata": {},
   "outputs": [
    {
     "name": "stdout",
     "output_type": "stream",
     "text": [
      "[0, 0, 1, 1, 2, 2, 3, 3, 4, 4]\n",
      "{0, 1, 2, 3, 4}\n"
     ]
    }
   ],
   "source": [
    "mylist = [n // 2 for n in range(10)]\n",
    "print(mylist)\n",
    "myset = {n // 2 for n in range(10)}\n",
    "print(myset)\n"
   ]
  },
  {
   "cell_type": "code",
   "execution_count": 23,
   "id": "cce33f06",
   "metadata": {},
   "outputs": [
    {
     "data": {
      "text/plain": [
       "{'d', 'r'}"
      ]
     },
     "execution_count": 23,
     "metadata": {},
     "output_type": "execute_result"
    }
   ],
   "source": [
    "a = {x for x in 'abracadabra' if x not in 'abc'}\n",
    "a\n",
    "{'r', 'd'}"
   ]
  },
  {
   "cell_type": "markdown",
   "id": "2df8b68f",
   "metadata": {},
   "source": [
    "| Data Type  | Content Type  | Sequence  | Mutable  |\n",
    "|---|---|---|---|\n",
    "| String  | characters  | yes  | no  |\n",
    "| list  | anything  | yes  | yes  |\n",
    "| tubple  | anything  | yes  | no  |\n",
    "| range  | integers  | yes  | no  |\n",
    "| set  | immutable items  | no  | yes  |\n",
    "\n",
    "***\n",
    "\n",
    "> [back](./index.html)\n"
   ]
  }
 ],
 "metadata": {
  "jupytext": {
   "cell_metadata_filter": "-all",
   "main_language": "python",
   "notebook_metadata_filter": "-all"
  },
  "kernelspec": {
   "display_name": "Python 3",
   "language": "python",
   "name": "python3"
  },
  "language_info": {
   "codemirror_mode": {
    "name": "ipython",
    "version": 3
   },
   "file_extension": ".py",
   "mimetype": "text/x-python",
   "name": "python",
   "nbconvert_exporter": "python",
   "pygments_lexer": "ipython3",
   "version": "3.12.3"
  }
 },
 "nbformat": 4,
 "nbformat_minor": 5
}
