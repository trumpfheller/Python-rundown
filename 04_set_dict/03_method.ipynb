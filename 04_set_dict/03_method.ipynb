{
 "cells": [
  {
   "cell_type": "raw",
   "id": "079159c6",
   "metadata": {},
   "source": [
    "---\n",
    "title: Python - Dictionary method\n",
    "layout: default\n",
    "---"
   ]
  },
  {
   "cell_type": "markdown",
   "id": "66558bf3",
   "metadata": {},
   "source": [
    "## Dictionary method\n",
    "\n",
    "* length function\n",
    "* content methods\n",
    "* manipulation methods\n",
    "* get methods\n",
    "\n",
    "### `len` function"
   ]
  },
  {
   "cell_type": "code",
   "execution_count": null,
   "id": "b00394d0",
   "metadata": {},
   "outputs": [],
   "source": [
    "# len(dict)\n",
    "\n",
    "my_dict = {'a': 1, 'b': 2, 'c': 3}\n",
    "dict_length = len(my_dict)\n",
    "print(\"Length of dictionary:\", dict_length)  # Output: 3"
   ]
  },
  {
   "cell_type": "markdown",
   "id": "a6d36e68",
   "metadata": {},
   "source": [
    "* you could also create a length function"
   ]
  },
  {
   "cell_type": "code",
   "execution_count": null,
   "id": "8808fc00",
   "metadata": {},
   "outputs": [],
   "source": [
    "def custom_length(lst):\n",
    "    count = 0\n",
    "    for _ in lst:\n",
    "        count += 1\n",
    "    return count\n",
    "\n",
    "# Example usage:\n",
    "my_list = [1, 2, 3, 4, 5]\n",
    "print(\"Length of list:\", custom_length(my_list))  # Output: 5"
   ]
  },
  {
   "cell_type": "markdown",
   "id": "804315b4",
   "metadata": {},
   "source": [
    "### content methods\n",
    "\n",
    "* Access dictionary items, keys or values\n",
    "* these methods return a view object\n",
    "  * Dynamic view of a dictionar's items (when the dict changes it will be reflected inthe view)\n",
    "  * there are containers and iterable so we can use them in for loops"
   ]
  },
  {
   "cell_type": "code",
   "execution_count": null,
   "id": "0a8ee16f",
   "metadata": {},
   "outputs": [],
   "source": [
    "dict.keys()\n",
    "# returns a view object of keys\n",
    "dict.values()\n",
    "# returns a view object of values\n",
    "dict.items()\n",
    "# returns a view object of items"
   ]
  },
  {
   "cell_type": "markdown",
   "id": "ab8b4ae1",
   "metadata": {},
   "source": [
    "### Examples"
   ]
  },
  {
   "cell_type": "code",
   "execution_count": null,
   "id": "7e9fec26",
   "metadata": {
    "lines_to_next_cell": 2
   },
   "outputs": [],
   "source": [
    "d={'a':1,'b':2,'c':3,}\n",
    "print(d.keys())\n",
    "print(d.values())\n",
    "print(d.items())\n",
    "# Output\n",
    "# dict_keys(['a','b','c'])\n",
    "# dict_values([1,2,3])\n",
    "# dict_items(['a',1),('b', 2),('c', 3)])\n",
    "# notice each item is a tuple containing key nd value"
   ]
  },
  {
   "cell_type": "markdown",
   "id": "c51d1d2f",
   "metadata": {},
   "source": [
    "### manipulation methods"
   ]
  },
  {
   "cell_type": "code",
   "execution_count": null,
   "id": "8f5638a5",
   "metadata": {},
   "outputs": [],
   "source": [
    "dict.clear()\n",
    "# removes all items in dict\n",
    "\n",
    "dict.update(dict2)\n",
    "# merge dict2 with dict, dup-keys overwritten by dict2\n",
    "d={'a':1,'b':2,'c':3}\n",
    "d2={'e':5,'f':6,'c':100}\n",
    "# Output\n",
    "# {'a':1,'b':2,'c':100, 'e':5,'f':6}\n",
    "\n",
    "dict.copy()\n",
    "# returns a copy of a dict\n",
    "d={'a':1,'b':2,'c':3}\n",
    "d2=d.copy()\n",
    "d2['a']=100\n",
    "print(d2)\n",
    "print(d)\n",
    "# Output\n",
    "# {'a':100,'b':2,'c':3}\n",
    "# {'a':1,'b':2,'c':3}"
   ]
  },
  {
   "cell_type": "markdown",
   "id": "e8009dfc",
   "metadata": {},
   "source": [
    "### get methods"
   ]
  },
  {
   "cell_type": "code",
   "execution_count": null,
   "id": "67b3fbf4",
   "metadata": {},
   "outputs": [],
   "source": [
    "dict.get(key, default=None)\n",
    "print(d.get('b'))\n",
    "print(d.get('d'))\n",
    "# return the value of key in dict, retrieves the value given the key\n",
    "# if key doesn't exist, it will return a None vlaue by default\n",
    "# if key doesn't exist return default instead => can be changed to a different value\n",
    "# Output\n",
    "# 2\n",
    "# None"
   ]
  },
  {
   "cell_type": "markdown",
   "id": "b5df0313",
   "metadata": {},
   "source": [
    "| Intent        |  Method         |\n",
    "|:-------------|:------------------|\n",
    "| create |\n",
    "| convert |\n",
    "| Add/change |\n",
    "| get |\n",
    "| combine |\n",
    "| delete |\n",
    "| test |\n",
    "| assign |\n",
    "| copy |\n",
    "| compare |\n",
    "| iterate |\n",
    "| comprehension |"
   ]
  }
 ],
 "metadata": {
  "jupytext": {
   "cell_metadata_filter": "-all",
   "main_language": "python",
   "notebook_metadata_filter": "-all"
  }
 },
 "nbformat": 4,
 "nbformat_minor": 5
}
