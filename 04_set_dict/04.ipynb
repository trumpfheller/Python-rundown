{
 "cells": [
  {
   "cell_type": "raw",
   "id": "b0937176",
   "metadata": {},
   "source": [
    "---\n",
    "title: Python set&dict\n",
    "layout: default\n",
    "---"
   ]
  },
  {
   "cell_type": "markdown",
   "id": "d23a9e90",
   "metadata": {},
   "source": [
    "## set&dict\n",
    "\n",
    "> Sets and dictionaries are unordered collections of items.\n",
    "\n",
    "> They serve different purposes due to their unique properties.\n",
    "\n",
    "### In Common Unordered\n",
    "\n",
    "- Both sets and dictionaries do not have a defined order for their elements. This means you cannot rely on the order of insertion or any other order when iterating over them. The elements are stored in a way that makes retrieval efficient, but the order of elements is not guaranteed.\n",
    "\n",
    "### In Common Mutability\n",
    "\n",
    "- meaning you can add or remove elements from a set.\n",
    "- Dictionaries are mutable as well, allowing for the addition, removal, or modification of key-value pairs."
   ]
  },
  {
   "cell_type": "code",
   "execution_count": null,
   "id": "eb7163ae",
   "metadata": {},
   "outputs": [],
   "source": [
    "# Adding elements to a set\n",
    "my_set.add(6)\n",
    "print(my_set)  # Output: {1, 2, 3, 4, 5, 6}\n",
    "\n",
    "# Adding a new key-value pair to a dictionary\n",
    "my_dict['d'] = 4\n",
    "print(my_dict)  # Output: {'a': 1, 'b': 2, 'c': 3, 'd': 4}"
   ]
  },
  {
   "cell_type": "markdown",
   "id": "896dc581",
   "metadata": {},
   "source": [
    "### differences between sets and dictionaries:\n",
    "\n",
    "Accessing Elements:\n",
    "- Sets are accessed by iterating over the set or by checking for membership.\n",
    "- Dictionaries are accessed using keys."
   ]
  },
  {
   "cell_type": "code",
   "execution_count": null,
   "id": "ab1564d0",
   "metadata": {},
   "outputs": [],
   "source": [
    "# Accessing elements in a set\n",
    "for element in my_set:\n",
    "    print(element)  # Output: 1, 2, 3, 4, 5\n",
    "\n",
    "# Accessing elements in a dictionary\n",
    "print(my_dict['a'])  # Output: 1"
   ]
  },
  {
   "cell_type": "markdown",
   "id": "36acd24f",
   "metadata": {},
   "source": [
    "About accessing [dictionaries]()\n",
    "\n",
    "Sets: \n",
    "\n",
    "- A set is a collection of unique elements. Each element in a set must be unique, and duplicate elements are automatically removed. \n",
    "- Sets are unordered, meaning the elements are not stored in any particular order.\n",
    "- Sets are typically used when you want to perform operations like intersection, union, and difference between collections.\n",
    "\n",
    "Example"
   ]
  },
  {
   "cell_type": "code",
   "execution_count": null,
   "id": "dc311944",
   "metadata": {},
   "outputs": [],
   "source": [
    "# Creating a set\n",
    "my_set = {1, 2, 3, 4, 5}\n",
    "print(my_set)  # Output: {1, 2, 3, 4, 5}"
   ]
  },
  {
   "cell_type": "markdown",
   "id": "076b84fb",
   "metadata": {},
   "source": [
    "Dictionaries: \n",
    "\n",
    "- A dictionary is a collection of key-value pairs. Each element in a dictionary consists of a key and its associated value. \n",
    "- Dictionaries are unordered as well, but from Python 3.7 onwards, insertion order of keys is preserved. In Python 3.6 and earlier, dictionaries are unordered.\n",
    "- Keys in a dictionary must be unique, but the values can be duplicated. \n",
    "- Dictionaries are useful for storing and retrieving data based on some unique identifier (the key).\n",
    "\n",
    "Example"
   ]
  },
  {
   "cell_type": "code",
   "execution_count": null,
   "id": "49af296c",
   "metadata": {},
   "outputs": [],
   "source": [
    "# Creating a dictionary\n",
    "my_dict = {'a': 1, 'b': 2, 'c': 3}\n",
    "print(my_dict)  # Output: {'a': 1, 'b': 2, 'c': 3}"
   ]
  },
  {
   "cell_type": "markdown",
   "id": "b9f351d8",
   "metadata": {},
   "source": [
    "---\n",
    "\n",
    "| Data Type  | Content Type  | Sequence  | Mutable  | defined Order  |\n",
    "|---|---|---|---|---|\n",
    "| string  | characters  | yes  | no  |  |\n",
    "| list  | anything  | yes  | yes  |  |\n",
    "| tuple  | anything  | yes  | no  |  |\n",
    "| range  | integers  | yes  | no  |  |\n",
    "| set  | immutable items  | no  | yes  | unordered collections |\n",
    "| dictionary  | immutable items  | no  | yes  | unordered collections |"
   ]
  }
 ],
 "metadata": {
  "jupytext": {
   "cell_metadata_filter": "-all",
   "main_language": "python",
   "notebook_metadata_filter": "-all"
  }
 },
 "nbformat": 4,
 "nbformat_minor": 5
}
