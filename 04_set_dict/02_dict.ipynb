{
 "cells": [
  {
   "cell_type": "raw",
   "id": "7f7c3687",
   "metadata": {},
   "source": [
    "---\n",
    "title: Python - Dictionary \n",
    "layout: default\n",
    "---"
   ]
  },
  {
   "cell_type": "markdown",
   "id": "97922384",
   "metadata": {},
   "source": [
    "## Dictionaries\n",
    "\n",
    "* items are Key-Value pairs \n",
    "* are not sequences but iterables\n",
    "* also known as `associative arrays` or `maps`\n",
    "* Container similar to sets\n",
    "\n",
    "### Dictionary items\n",
    "\n",
    "* Key is mapped to a value.\n",
    "* Keys are unique, can be strings, numbers or tuples.\n",
    "* Values can be any type.\n",
    "\n",
    "### Dictionary Literals\n",
    "\n",
    "* surrounded by curly braces {}\n",
    "* Items are key-value pairs seperated by a colon \n",
    "* Items are seperated by a comma\n",
    "\n",
    "### Examples\n",
    "\n",
    "* state => capital\n",
    "{'California':'Sacramento', 'Texas':'Austin', 'New York':'Albany'}\n",
    "\n",
    "* id => employee\n",
    "{1:'Alex', 2:'Lin', 3:'Miranda'}\n",
    "\n",
    "* Postal code => city\n",
    "{'94720':'Berkeley', '94104':'Berkeley', '94105':'Berkeley'}\n",
    "\n",
    " * File Types(category => list of files)\n",
    "fileTypes = {'images':[flower.jpg, 'logo.png', 'python.png'],'music':['beethoven-5th.mp3', 'do-you-feel-it.flac']}\n",
    "\n",
    "* Grades (letter grade => test scores)\n",
    "grades = {'A':[98,95,97,92],'B':[88,82,85], 'C':[75,78]}\n",
    "\n",
    "### Initiate with `my_dict = {}` VS `my_dict = dict()`\n",
    "\n",
    "* `my_dict = {}` is generally preferred for its simplicity and readability. \n",
    "* Use `my_dict = dict()` when you need to take advantage of its ability to create dictionaries from keyword arguments or other iterable inputs.\n",
    "\n",
    "Syntax:\n",
    "\n",
    "* `my_dict = {}` uses the **literal syntax** for dictionary creation. It's more concise and generally preferred for creating an empty dictionary.\n",
    "* `my_dict = dict()` uses the **constructor** of the dict class to create an empty dictionary. This is a bit more verbose but can be useful in certain contexts."
   ]
  },
  {
   "cell_type": "code",
   "execution_count": null,
   "id": "728f4378",
   "metadata": {},
   "outputs": [],
   "source": [
    "# Creating empty dictionary\n",
    "my_dict = {}\n",
    "\n",
    "# Adding key-value pairs to the dictionary\n",
    "my_dict['name'] = 'Alice'\n",
    "my_dict['age'] = 30\n",
    "my_dict['city'] = 'New York'\n",
    "\n",
    "# Printing the dictionary\n",
    "print(my_dict)\n",
    "\n",
    "# Accessing a value by its key\n",
    "print('Name:', my_dict['name'])\n",
    "\n",
    "# Updating a value\n",
    "my_dict['age'] = 31\n",
    "print('Updated age:', my_dict['age'])\n",
    "\n",
    "# Removing a key-value pair\n",
    "del my_dict['city']\n",
    "print('After removing city:', my_dict)\n",
    "\n",
    "# Iterating over the dictionary\n",
    "for key, value in my_dict.items():\n",
    "    print(f'{key}: {value}')\n",
    "\n",
    "# Output\n",
    "{'name': 'Alice', 'age': 30, 'city': 'New York'}\n",
    "Name: Alice\n",
    "Updated age: 31\n",
    "After removing city: {'name': 'Alice', 'age': 31}\n",
    "name: Alice\n",
    "age: 31\n"
   ]
  },
  {
   "cell_type": "code",
   "execution_count": null,
   "id": "bc83e2e3",
   "metadata": {},
   "outputs": [],
   "source": [
    "x = dict(name='Mike')\n",
    "print(x)  # Output: {'name': 'Mike'}"
   ]
  },
  {
   "cell_type": "markdown",
   "id": "46ca27ae",
   "metadata": {},
   "source": [
    "Performance:\n",
    "\n",
    "* `my_dict = {}`` is slightly faster because it directly creates an empty dictionary, whereas `my_dict = dict()`` involves a function call to the dict constructor. However, the difference is typically negligible for most applications.\n",
    "\n",
    "Readability:\n",
    "\n",
    "* `my_dict = {}` is often considered **more readable** and is **commonly used** in Python code. It's the preferred way when you need a simple, empty dictionary.\n",
    "* `my_dict = dict()` when you want to emphasize that you're using the dict class, or in cases where you want to create a dictionary with keyword arguments.\n",
    "\n",
    "Use Cases:\n",
    "\n",
    "* `my_dict = {}` is straightforward and is the standard way to create an empty dictionary.\n",
    "* `my_dict = dict()` can be useful when creating a dictionary from keyword arguments or another iterable. For example:"
   ]
  },
  {
   "cell_type": "code",
   "execution_count": null,
   "id": "2d6c4a00",
   "metadata": {},
   "outputs": [],
   "source": [
    "\n",
    "my_dict = dict(a=1, b=2, c=3)\n",
    "\n",
    "# This creates a dictionary \n",
    "{'a': 1, 'b': 2, 'c': 3}."
   ]
  },
  {
   "cell_type": "markdown",
   "id": "d86defcc",
   "metadata": {},
   "source": [
    "### Dicitonary operators\n",
    "\n",
    "* Index\n",
    "* Assignment\n",
    "* Membership\n",
    "* delete\n",
    "\n",
    "### Example for Index Operator"
   ]
  },
  {
   "cell_type": "code",
   "execution_count": null,
   "id": "37e57115",
   "metadata": {},
   "outputs": [],
   "source": [
    "d={'a':1,'b':2,'c':3,}\n",
    "print(d['a'])\n",
    "# return value associated with key\n",
    "# Output\n",
    "# 1\n",
    "print(d['x'])\n",
    "# Output\n",
    "# KeyError: 'x'"
   ]
  },
  {
   "cell_type": "markdown",
   "id": "68badab4",
   "metadata": {},
   "source": [
    "### Membership Operator"
   ]
  },
  {
   "cell_type": "code",
   "execution_count": null,
   "id": "0223758d",
   "metadata": {},
   "outputs": [],
   "source": [
    "key in d"
   ]
  },
  {
   "cell_type": "markdown",
   "id": "0cc72d8e",
   "metadata": {},
   "source": [
    "### Example Membership Operator "
   ]
  },
  {
   "cell_type": "code",
   "execution_count": null,
   "id": "6c5424bb",
   "metadata": {},
   "outputs": [],
   "source": [
    "person = {'name': 'Alice', 'age': 30, 'city': 'New York'}\n",
    "\n",
    "# Check if 'name' is a key in the dictionary\n",
    "print('name' in person)  # Output: True\n",
    "\n",
    "# Check if 'address' is not a key in the dictionary\n",
    "print('address' not in person)  # Output: True\n",
    "\n",
    "# Check if 'Alice' is a value in the dictionary\n",
    "print('Alice' in person.values())  # Output: True\n",
    "\n",
    "# Check if 40 is not a value in the dictionary\n",
    "print(40 not in person.values())  # Output: True"
   ]
  },
  {
   "cell_type": "markdown",
   "id": "fe6a1a09",
   "metadata": {},
   "source": [
    "### Assignment Operator\n",
    "\n",
    "* to put items in the dictionary, we use the assignment operator\n",
    "* if key exists, update key's value to value\n",
    "* if key doesn't exist, add a new key-value item"
   ]
  },
  {
   "cell_type": "code",
   "execution_count": null,
   "id": "1c8c78ed",
   "metadata": {},
   "outputs": [],
   "source": [
    "d={'a':1,'b':2,'c':3,}\n",
    "d['a']=100\n",
    "print(d)\n",
    "d['e']=5\n",
    "print(d)\n",
    "\n",
    "#Output\n",
    "# {'a':100,'b':2,'c':3}\n",
    "# {'a':100,'b':2,'c':3,'e':5}"
   ]
  },
  {
   "cell_type": "markdown",
   "id": "b0eb96e6",
   "metadata": {},
   "source": [
    "### Delete Operator"
   ]
  },
  {
   "cell_type": "code",
   "execution_count": null,
   "id": "a7573139",
   "metadata": {},
   "outputs": [],
   "source": [
    "del d[key]"
   ]
  },
  {
   "cell_type": "markdown",
   "id": "b174a24e",
   "metadata": {},
   "source": [
    "* delete item with key\n",
    "* KeyError if not found\n",
    "* removes an item with a specific key.\n",
    "\n",
    "---\n",
    "\n",
    "### Accessing elements\n",
    "\n",
    "#1. Accessing by Key using Square Brackets (`[]`)"
   ]
  },
  {
   "cell_type": "code",
   "execution_count": null,
   "id": "3a8de83e",
   "metadata": {},
   "outputs": [],
   "source": [
    "# Creating a dictionary\n",
    "student = {\"name\": \"Alice\", \"age\": 20, \"major\": \"Computer Science\"}\n",
    "\n",
    "# Accessing values using keys\n",
    "print(student[\"name\"])   # Output: Alice\n",
    "print(student[\"age\"])    # Output: 20\n",
    "print(student[\"major\"])  # Output: Computer Science\n",
    "print(student[\"grade\"])  # KeyError: 'grade'"
   ]
  },
  {
   "cell_type": "markdown",
   "id": "ab9e3e58",
   "metadata": {},
   "source": [
    "#2. Access using `get()` Method:"
   ]
  },
  {
   "cell_type": "code",
   "execution_count": null,
   "id": "1f14134d",
   "metadata": {},
   "outputs": [],
   "source": [
    "# Accessing values using get() method\n",
    "print(student.get(\"name\"))    # Output: Alice\n",
    "print(student.get(\"grade\"))   # Output: None (key does not exist)\n",
    "print(student.get(\"grade\", \"N/A\"))  # Output: N/A (default value specified)"
   ]
  },
  {
   "cell_type": "markdown",
   "id": "23f88161",
   "metadata": {},
   "source": [
    "#3. Access by iterating through Keys:"
   ]
  },
  {
   "cell_type": "code",
   "execution_count": null,
   "id": "92c08d49",
   "metadata": {},
   "outputs": [],
   "source": [
    "# Iterating through keys\n",
    "for key in student:\n",
    "    print(key, \"->\", student[key])\n",
    "#Output\n",
    "name -> Alice\n",
    "age -> 20\n",
    "major -> Computer Science"
   ]
  },
  {
   "cell_type": "markdown",
   "id": "afec6efc",
   "metadata": {},
   "source": [
    "#4. Access by iterating Through Key-Value Pairs"
   ]
  },
  {
   "cell_type": "code",
   "execution_count": null,
   "id": "6659f429",
   "metadata": {},
   "outputs": [],
   "source": [
    "# Iterating through key-value pairs\n",
    "for key, value in student.items():\n",
    "    print(key, \"->\", value)"
   ]
  },
  {
   "cell_type": "markdown",
   "id": "6b6935ab",
   "metadata": {},
   "source": [
    "#5. Accessing Keys and Values Separately:"
   ]
  },
  {
   "cell_type": "code",
   "execution_count": null,
   "id": "bce913ca",
   "metadata": {},
   "outputs": [],
   "source": [
    "# Accessing keys\n",
    "keys = student.keys()\n",
    "print(keys)   # Output: dict_keys(['name', 'age', 'major'])\n",
    "\n",
    "# Accessing values\n",
    "values = student.values()\n",
    "print(values)  # Output: dict_values(['Alice', 20, 'Computer Science'])"
   ]
  },
  {
   "cell_type": "markdown",
   "id": "0e761993",
   "metadata": {},
   "source": [
    "---\n",
    "\n",
    "* dict Example used in `mapping`"
   ]
  },
  {
   "cell_type": "code",
   "execution_count": null,
   "id": "99026bc2",
   "metadata": {},
   "outputs": [],
   "source": [
    "# Define a dictionary mapping product IDs to names and prices\n",
    "products = {\n",
    "    1: {\"name\": \"Laptop\", \"price\": 1200.00},\n",
    "    2: {\"name\": \"Mouse\", \"price\": 25.00},\n",
    "    3: {\"name\": \"Keyboard\", \"price\": 50.00},\n",
    "    4: {\"name\": \"Monitor\", \"price\": 300.00}\n",
    "}\n",
    "\n",
    "# Function to retrieve product information\n",
    "def get_product_info(product_id):\n",
    "    if product_id in products:\n",
    "        return products[product_id]\n",
    "    else:\n",
    "        return None\n",
    "\n",
    "# Example usage:\n",
    "product_id = 2\n",
    "product_info = get_product_info(product_id)\n",
    "\n",
    "if product_info:\n",
    "    print(f\"Product ID {product_id} is a {product_info['name']} priced at ${product_info['price']}\")\n",
    "else:\n",
    "    print(f\"Product with ID {product_id} not found.\")"
   ]
  },
  {
   "cell_type": "markdown",
   "id": "c3e2a63b",
   "metadata": {},
   "source": [
    "*  dict Example used in `counting`"
   ]
  },
  {
   "cell_type": "code",
   "execution_count": null,
   "id": "34d40298",
   "metadata": {
    "lines_to_next_cell": 0
   },
   "outputs": [],
   "source": [
    "# Example list\n",
    "data = [1, 2, 3, 2, 1, 3, 2, 1, 1, 2, 3, 1, 2, 3]\n",
    "\n",
    "# Initialize an empty dictionary to count occurrences\n",
    "count_dict = {}\n",
    "\n",
    "# Count occurrences of each element in the list\n",
    "for item in data:\n",
    "    if item in count_dict:\n",
    "        count_dict[item] += 1\n",
    "    else:\n",
    "        count_dict[item] = 1\n",
    "\n",
    "# Print the resulting dictionary with counts\n",
    "print(\"Count of each element:\")\n",
    "for key, value in count_dict.items():\n",
    "    print(f\"{key}: {value}\")"
   ]
  },
  {
   "cell_type": "markdown",
   "id": "03495ab3",
   "metadata": {},
   "source": [
    "Counting Process:\n",
    "* We iterate through each element (`item`) in the  `data` list.\n",
    "* If the `item` already exists as a `key in count_dict`, we increment its count (`count_dict[item] += 1`).\n",
    "* If the `item` is encountered for the first time, we initialize its count to 1 (`count_dict[item] = 1`).\n",
    "\n",
    "*  dict Example used in `accumulating`"
   ]
  },
  {
   "cell_type": "code",
   "execution_count": null,
   "id": "ad6ebe37",
   "metadata": {},
   "outputs": [],
   "source": [
    "# Sample data: a list of items\n",
    "items = ['apple', 'banana', 'apple', 'orange', 'banana', 'apple']\n",
    "\n",
    "# Create an empty dictionary to accumulate counts\n",
    "item_counts = {}\n",
    "\n",
    "# Iterate over each item in the list\n",
    "for item in items:\n",
    "    # If the item is already in the dictionary, increment its count\n",
    "    if item in item_counts:\n",
    "        item_counts[item] += 1\n",
    "    # If the item is not in the dictionary, add it with a count of 1\n",
    "    else:\n",
    "        item_counts[item] = 1\n",
    "\n",
    "# Print the accumulated counts\n",
    "print(item_counts)\n",
    "# OUTPUT\n",
    "{'apple': 3, 'banana': 2, 'orange': 1}\n"
   ]
  },
  {
   "cell_type": "markdown",
   "id": "29923e75",
   "metadata": {},
   "source": [
    "*  dict Example used in categorizing "
   ]
  },
  {
   "cell_type": "code",
   "execution_count": null,
   "id": "7763c08f",
   "metadata": {},
   "outputs": [],
   "source": [
    "# Sample data: a list of fruits with their types\n",
    "fruits = [\n",
    "    ('orange', 'citrus'),\n",
    "    ('lemon', 'citrus'),\n",
    "    ('strawberry', 'berry'),\n",
    "    ('blueberry', 'berry'),\n",
    "    ('banana', 'tropical'),\n",
    "    ('mango', 'tropical')\n",
    "]\n",
    "\n",
    "# Create an empty dictionary to categorize fruits\n",
    "fruit_categories = {}\n",
    "\n",
    "# Iterate over each fruit in the list\n",
    "for fruit, category in fruits:\n",
    "    # If the category is already in the dictionary, append the fruit to the list\n",
    "    if category in fruit_categories:\n",
    "        fruit_categories[category].append(fruit)\n",
    "    # If the category is not in the dictionary, add it with a list containing the fruit\n",
    "    else:\n",
    "        fruit_categories[category] = [fruit]\n",
    "\n",
    "# Print the categorized fruits\n",
    "print(fruit_categories)\n",
    "\n",
    "# Output\n",
    "{\n",
    "    'citrus': ['orange', 'lemon'],\n",
    "    'berry': ['strawberry', 'blueberry'],\n",
    "    'tropical': ['banana', 'mango']\n",
    "}\n"
   ]
  },
  {
   "cell_type": "markdown",
   "id": "be0acfe5",
   "metadata": {},
   "source": [
    "***\n",
    "\n",
    "| Data Type | Content Type | Sequence | Mutable |\n",
    "|:-------------|:------------------|:-------------|:------------------|\n",
    "| String | characters | yes | no |\n",
    "| list | anything | yes | yes |\n",
    "| tuple | anything | yes | no |\n",
    "| range | integers | yes | no |\n",
    "| set | anything | no | yes |\n",
    "| dictionary | name-value pairs | no | yes |\n",
    "\n",
    "***"
   ]
  }
 ],
 "metadata": {
  "jupytext": {
   "cell_metadata_filter": "-all",
   "main_language": "python",
   "notebook_metadata_filter": "-all"
  }
 },
 "nbformat": 4,
 "nbformat_minor": 5
}
