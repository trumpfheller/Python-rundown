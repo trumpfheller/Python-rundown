{
 "cells": [
  {
   "cell_type": "raw",
   "id": "0ef9c014",
   "metadata": {},
   "source": [
    "---\n",
    "title:  Python - Dictionary iteration\n",
    "layout: default\n",
    "---"
   ]
  },
  {
   "cell_type": "markdown",
   "id": "20d91fb3",
   "metadata": {},
   "source": [
    "## Dictionary iteration\n",
    "\n",
    "* Iteration by keys\n",
    "* Iteration by values\n",
    "* Iteration by items\n",
    "* Dictionary Comprehension\n",
    "\n",
    "### Iteration by keys\n",
    "\n",
    "* iterate though keys of a dict using key()\n",
    "* retrieve value with the key using indexing\n",
    "\n",
    "**Syntax**"
   ]
  },
  {
   "cell_type": "code",
   "execution_count": null,
   "id": "361b4069",
   "metadata": {},
   "outputs": [],
   "source": [
    "value = dictionary[key]"
   ]
  },
  {
   "cell_type": "markdown",
   "id": "afe90200",
   "metadata": {},
   "source": [
    "**Example1**"
   ]
  },
  {
   "cell_type": "code",
   "execution_count": null,
   "id": "4fc9cda5",
   "metadata": {},
   "outputs": [],
   "source": [
    "d={'b':2,'a':1,'c':3,}\n",
    "for key in d.keys():\n",
    "    value=d[key]\n",
    "    print(f\"d['{key}']={value}\")\n",
    "# Output\n",
    "d['b']=2\n",
    "d['a']=1\n",
    "d['c']=3"
   ]
  },
  {
   "cell_type": "markdown",
   "id": "6a01cc2b",
   "metadata": {},
   "source": [
    "**Example2**"
   ]
  },
  {
   "cell_type": "code",
   "execution_count": null,
   "id": "c2a2d1ac",
   "metadata": {},
   "outputs": [],
   "source": [
    "d={'b':2,'a':1,'c':3,}\n",
    "for key in sorted(d.keys()):\n",
    "    value=d[key]\n",
    "    print(f\"d['{key}']={value}\")\n",
    "# Output\n",
    "d['a']=1\n",
    "d['b']=2\n",
    "d['c']=3"
   ]
  },
  {
   "cell_type": "markdown",
   "id": "f40cde2b",
   "metadata": {},
   "source": [
    "### Iteration by values\n",
    "\n",
    "* iterate through values using values()\n",
    "* Note that because of the way dictionaries work, we cannot retrieve the key using only a dictionary's value.\n",
    "\n",
    "**Example1**"
   ]
  },
  {
   "cell_type": "code",
   "execution_count": null,
   "id": "6fb08c0a",
   "metadata": {},
   "outputs": [],
   "source": [
    "d={'b':2,'a':1,'c':3}\n",
    "total = 0\n",
    "for value in d.values():\n",
    "    total += value\n",
    "print(total)\n",
    "# Output\n",
    "# 6"
   ]
  },
  {
   "cell_type": "markdown",
   "id": "9ca07e36",
   "metadata": {},
   "source": [
    "### Iteration by items\n",
    "\n",
    "* iterate though items using items() method\n",
    "* items() returns an iterable of key-value tuples\n",
    "  * [(key1, value1),(key2, value2),(key3, value3)]"
   ]
  },
  {
   "cell_type": "code",
   "execution_count": null,
   "id": "6b859370",
   "metadata": {},
   "outputs": [],
   "source": [
    "for key, value in [(key1, value1), \n",
    "                    (key2, value2), \n",
    "                    (key3, value3), ]"
   ]
  },
  {
   "cell_type": "markdown",
   "id": "b6512e49",
   "metadata": {},
   "source": [
    "**Example**"
   ]
  },
  {
   "cell_type": "code",
   "execution_count": null,
   "id": "fa3b4888",
   "metadata": {},
   "outputs": [],
   "source": [
    "    d={'a':1,'b':2,'c':3}\n",
    "    for key,value in d.items():\n",
    "        print(f\"d['{key}']={value}\")\n",
    "# Output\n",
    "#   "
   ]
  },
  {
   "cell_type": "markdown",
   "id": "53a5800e",
   "metadata": {},
   "source": [
    "* d.items returns a sequence containing tuples of key value pairs\n",
    "* with tuple assignment, key is set to a and value is set to 1\n",
    "key, value is set to a tuple\n",
    "\n",
    "| expression  | value |\n",
    "|:-------------|:------------------|\n",
    "| key,value | ('a',1)\n",
    "| d.items() | [('a':1),('b':2),('c':3)]\n",
    "\n",
    "## WHY\n",
    "\n",
    "* \"with the tuple assignment, key is set to a and value is set to 1.\"\n",
    "* Now why is the key in a list ['{key}'] again?\n",
    "\n",
    "--\n",
    "\n",
    "### Dictionary Comprehension\n",
    "\n",
    "* like set comprehension (index expression is replaced with key-value expression)\n",
    "* uses key-value pair for item expression\n",
    "\n",
    "**Syntax**"
   ]
  },
  {
   "cell_type": "code",
   "execution_count": null,
   "id": "09926b00",
   "metadata": {},
   "outputs": [],
   "source": [
    "{key: vlaue for item in iterable if cond_exp}"
   ]
  },
  {
   "cell_type": "markdown",
   "id": "7f438a84",
   "metadata": {},
   "source": [
    "(he is presenting is for the sake of completion, but he doesn't feel it is very useful per se since it complex nature)\n"
   ]
  },
  {
   "cell_type": "code",
   "execution_count": null,
   "id": "70a52507",
   "metadata": {},
   "outputs": [],
   "source": [
    "fruits=['apple', 'banana', 'cherry', 'durian']\n",
    "d={fruit[0].lower(): fruite.capitalization() for fruit in fruits}\n",
    "print(d)\n",
    "\n",
    "# Output\n",
    "# {'a': 'Apple', 'b':'Banana', 'c':'Cherry', 'd':'Durian'}"
   ]
  }
 ],
 "metadata": {
  "jupytext": {
   "cell_metadata_filter": "-all",
   "main_language": "python",
   "notebook_metadata_filter": "-all"
  }
 },
 "nbformat": 4,
 "nbformat_minor": 5
}
