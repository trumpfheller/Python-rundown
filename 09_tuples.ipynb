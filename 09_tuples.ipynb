{
 "cells": [
  {
   "cell_type": "markdown",
   "id": "d27e87bd",
   "metadata": {},
   "source": [
    "## Tuples\n",
    "\n",
    "* Immutable sequence\n",
    "* Like lists but cannot be modified\n",
    "* Inherit all the sequence operators, functions and methods\n",
    "\n",
    "| Type | Sequence  | Mutable  |\n",
    "|---|---|---|\n",
    "| tuple | YES  | NO  |\n",
    "| String | YES  | NO  |\n",
    "| Range | YES  | NO  |\n",
    "| List | YES  | YES  |\n",
    "| Set | NO | YES  |\n",
    "| Dict  |  NO | YES  |\n",
    "\n",
    "### Usecases\n",
    "\n",
    "* Dates\n",
    "* Coordinates\n",
    "* Birthdays\n",
    "* Logging information\n",
    "* Grouping data (person's name, place of birth)\n",
    "\n",
    "### Tuple Advantages\n",
    "\n",
    "* Speed\n",
    "* Security\n",
    "* Compact code\n",
    "* Keys in a dictionary\n",
    "\n"
   ]
  },
  {
   "cell_type": "markdown",
   "id": "3d9fd09a",
   "metadata": {},
   "source": [
    "### Tuple Literals - usecases\n",
    "\n",
    "* Fixed Collections: When you have a collection of items that should not change during the program's execution (e.g., coordinates, RGB color values, database credentials that are loaded once).\n",
    "* Function Return Values: Functions can return multiple values as a single tuple, which can then be easily unpacked.\n",
    "* Dictionary Keys: Because tuples are immutable, they can be used as keys in dictionaries (unlike lists).\n",
    "* Performance: Tuples are generally slightly more memory-efficient and faster to iterate over than lists, though the difference is often negligible for typical use cases.\n"
   ]
  },
  {
   "cell_type": "markdown",
   "id": "bb43685c",
   "metadata": {},
   "source": [
    "### Empty Tuple\n",
    "* A tuple with no items."
   ]
  },
  {
   "cell_type": "code",
   "execution_count": 28,
   "id": "edb11adb",
   "metadata": {},
   "outputs": [
    {
     "name": "stdout",
     "output_type": "stream",
     "text": [
      "()\n",
      "<class 'tuple'>\n"
     ]
    }
   ],
   "source": [
    "empty_tuple = ()\n",
    "print(empty_tuple)\n",
    "print(type(empty_tuple))"
   ]
  },
  {
   "cell_type": "markdown",
   "id": "79a4304c",
   "metadata": {},
   "source": [
    "### Single item Tuple\n",
    "* To create a tuple with a single item, you must include a trailing comma after the item. Without it, Python interprets it as just the item itself, possibly in parentheses for grouping."
   ]
  },
  {
   "cell_type": "code",
   "execution_count": 29,
   "id": "ebac91eb",
   "metadata": {},
   "outputs": [
    {
     "name": "stdout",
     "output_type": "stream",
     "text": [
      "(42,)\n",
      "<class 'tuple'>\n",
      "42\n",
      "<class 'int'>\n"
     ]
    }
   ],
   "source": [
    "single_item_tuple = (42,) # single item requires a comma\n",
    "print(single_item_tuple)\n",
    "print(type(single_item_tuple))\n",
    "\n",
    "# Contrast with:\n",
    "not_a_tuple = (42) # This is just an integer in parentheses\n",
    "print(not_a_tuple)\n",
    "print(type(not_a_tuple))\n"
   ]
  },
  {
   "cell_type": "markdown",
   "id": "1a9abe79",
   "metadata": {},
   "source": [
    "### Tuple with Multiple Items\n",
    "*  most frequent use case, where items are separated by commas"
   ]
  },
  {
   "cell_type": "code",
   "execution_count": 30,
   "id": "c214c5a0",
   "metadata": {},
   "outputs": [
    {
     "name": "stdout",
     "output_type": "stream",
     "text": [
      "(10, 20)\n",
      "<class 'tuple'>\n",
      "('Alice', 30, 'New York')\n",
      "<class 'tuple'>\n",
      "(1, 'hello', True, 3.14)\n",
      "<class 'tuple'>\n"
     ]
    }
   ],
   "source": [
    "coordinates = (10, 20)\n",
    "print(coordinates)\n",
    "print(type(coordinates))\n",
    "# Output:\n",
    "# (10, 20)\n",
    "# <class 'tuple'>\n",
    "\n",
    "person_info = (\"Alice\", 30, \"New York\")\n",
    "print(person_info)\n",
    "print(type(person_info))\n",
    "# Output:\n",
    "# ('Alice', 30, 'New York')\n",
    "# <class 'tuple'>\n",
    "\n",
    "mixed_data = (1, \"hello\", True, 3.14)\n",
    "print(mixed_data)\n",
    "print(type(mixed_data))\n",
    "# Output:\n",
    "# (1, 'hello', True, 3.14)\n",
    "# <class 'tuple'>"
   ]
  },
  {
   "cell_type": "markdown",
   "id": "5b5fab93",
   "metadata": {},
   "source": [
    "### Tuple Function - `tuple(container)`\n",
    "* create it with tuple literals (using parentheses and commas), or by tuple packing\n",
    "* return a tuple from a given container\n",
    "* returns a tuple version of it\n",
    "* An ordered, immutable sequence of elements. It's a type of collection that holds other items.\n",
    "* Ordered: Elements maintain a specific sequence.\n",
    "* Immutable: Once created, you cannot change its elements (add, remove, or modify).\n",
    "* Heterogeneous: Can contain elements of different data types.\n",
    "* Hashable: Because it's immutable, it can be used as a key in a dictionary or an element in a set (if its contents are also hashable)."
   ]
  },
  {
   "cell_type": "code",
   "execution_count": 50,
   "id": "b250e41e",
   "metadata": {},
   "outputs": [
    {
     "name": "stdout",
     "output_type": "stream",
     "text": [
      "(1, 'hello', 3.14)\n",
      "<class 'tuple'>\n"
     ]
    }
   ],
   "source": [
    "# A tuple containing an integer, a string, and a float\n",
    "my_container_tuple = (1, \"hello\", 3.14)\n",
    "print(my_container_tuple)\n",
    "print(type(my_container_tuple))"
   ]
  },
  {
   "cell_type": "markdown",
   "id": "558be8b6",
   "metadata": {},
   "source": [
    "### Tuple Assignment (tuple unpacking)\n",
    "\n",
    "* set multiple variables in one statement\n",
    "  * `var0, var1, var2, = value0,value1,value2, `"
   ]
  },
  {
   "cell_type": "code",
   "execution_count": 31,
   "id": "1d1b5817",
   "metadata": {},
   "outputs": [
    {
     "data": {
      "text/plain": [
       "300"
      ]
     },
     "execution_count": 31,
     "metadata": {},
     "output_type": "execute_result"
    }
   ],
   "source": [
    "t = (1,20,300)\n",
    "a,b,c = t\n",
    "\n",
    "# Output\n",
    "1\n",
    "20\n",
    "300"
   ]
  },
  {
   "cell_type": "markdown",
   "id": "77708a03",
   "metadata": {},
   "source": [
    "### Usecase Assigning Multiple Return Values from a Function\n",
    "* When a function needs to return several distinct pieces of information, it can pack them into a tuple, and the caller can then unpack them into individual variables."
   ]
  },
  {
   "cell_type": "code",
   "execution_count": 32,
   "id": "e398cc8e",
   "metadata": {},
   "outputs": [
    {
     "name": "stdout",
     "output_type": "stream",
     "text": [
      "Sum: 80\n",
      "Number of items: 5\n",
      "Average: 16.0\n",
      "Maximum: 30\n"
     ]
    }
   ],
   "source": [
    "def calculate_stats(numbers):\n",
    "    if not numbers:\n",
    "        return None, None, None, None # Return default values for empty input\n",
    "    total = sum(numbers)\n",
    "    count = len(numbers)\n",
    "    average = total / count\n",
    "    maximum = max(numbers)\n",
    "    return total, count, average, maximum # Function returns a tuple\n",
    "\n",
    "data = [10, 20, 5, 30, 15]\n",
    "# Tuple assignment:\n",
    "sum_val, num_items, avg_val, max_val = calculate_stats(data)\n",
    "\n",
    "print(f\"Sum: {sum_val}\")\n",
    "print(f\"Number of items: {num_items}\")\n",
    "print(f\"Average: {avg_val}\")\n",
    "print(f\"Maximum: {max_val}\")"
   ]
  },
  {
   "cell_type": "markdown",
   "id": "337c893a",
   "metadata": {},
   "source": [
    "### Assigning Usecase Swapping Variable Values:\n",
    "* Tuple assignment provides an elegant and efficient way to swap the values of two variables without needing a temporary variable.\n",
    "\n"
   ]
  },
  {
   "cell_type": "code",
   "execution_count": 33,
   "id": "198cc3ca",
   "metadata": {},
   "outputs": [
    {
     "name": "stdout",
     "output_type": "stream",
     "text": [
      "Before swap: a=10, b=20\n",
      "After swap: a=20, b=10\n"
     ]
    }
   ],
   "source": [
    "a = 10\n",
    "b = 20\n",
    "\n",
    "print(f\"Before swap: a={a}, b={b}\")\n",
    "# Tuple assignment for swapping:\n",
    "a, b = b, a\n",
    "\n",
    "print(f\"After swap: a={a}, b={b}\")"
   ]
  },
  {
   "cell_type": "markdown",
   "id": "d18c5080",
   "metadata": {},
   "source": [
    "### Usecase Iterating Over Items in a Specific Format (e.g., Dictionary Items, enumerate, zip):\n",
    "* Many built-in Python functions and methods return iterables where each element is itself a tuple (or tuple-like). \n",
    "* Tuple assignment makes it easy to access the individual components within the loop."
   ]
  },
  {
   "cell_type": "code",
   "execution_count": 34,
   "id": "a30c4135",
   "metadata": {},
   "outputs": [
    {
     "name": "stdout",
     "output_type": "stream",
     "text": [
      "Alice: 95\n",
      "Bob: 88\n",
      "Charlie: 92\n"
     ]
    }
   ],
   "source": [
    "# Example: Iterating over dictionary items: dict.items() returns a view of (key, value) tuples.\n",
    "student_scores = {\"Alice\": 95, \"Bob\": 88, \"Charlie\": 92}\n",
    "\n",
    "for name, score in student_scores.items(): # Unpacking each (name, score) tuple\n",
    "    print(f\"{name}: {score}\")"
   ]
  },
  {
   "cell_type": "code",
   "execution_count": 35,
   "id": "78a8d0d4",
   "metadata": {},
   "outputs": [
    {
     "name": "stdout",
     "output_type": "stream",
     "text": [
      "Fruit at index 0: apple\n",
      "Fruit at index 1: banana\n",
      "Fruit at index 2: cherry\n"
     ]
    }
   ],
   "source": [
    "# Example: Using enumerate for index and value: enumerate() returns (index, value) tuples.\n",
    "fruits = [\"apple\", \"banana\", \"cherry\"]\n",
    "\n",
    "for index, fruit in enumerate(fruits): # Unpacking each (index, fruit) tuple\n",
    "    print(f\"Fruit at index {index}: {fruit}\")"
   ]
  },
  {
   "cell_type": "code",
   "execution_count": 36,
   "id": "67b46759",
   "metadata": {},
   "outputs": [
    {
     "name": "stdout",
     "output_type": "stream",
     "text": [
      "Alice is 30 years old.\n",
      "Bob is 24 years old.\n",
      "Charlie is 35 years old.\n"
     ]
    }
   ],
   "source": [
    "# Example: Using zip to combine iterables: zip() combines corresponding elements from multiple iterables into tuples.\n",
    "\n",
    "names = [\"Alice\", \"Bob\", \"Charlie\"]\n",
    "ages = [30, 24, 35]\n",
    "\n",
    "for name, age in zip(names, ages): # Unpacking each (name, age) tuple\n",
    "    print(f\"{name} is {age} years old.\")\n"
   ]
  },
  {
   "cell_type": "markdown",
   "id": "c075968d",
   "metadata": {},
   "source": [
    "### Usecase Parsing Fixed-Format Data:\n",
    "* If you have a string or a line of data that you know will always have a certain number of parts, you can split it and use tuple assignment.\n",
    "* Note: For robust CSV parsing, use the csv module."
   ]
  },
  {
   "cell_type": "code",
   "execution_count": 37,
   "id": "db265c6c",
   "metadata": {},
   "outputs": [
    {
     "name": "stdout",
     "output_type": "stream",
     "text": [
      "Product: Laptop (ID: product_id), Price: $1200.00, In Stock: True\n"
     ]
    }
   ],
   "source": [
    "# Example: Parsing a CSV line (simple):\n",
    "data_line = \"product_id,Laptop,1200.00,True\"\n",
    "parts = data_line.split(',')\n",
    "\n",
    "# Assuming exactly 4 parts:\n",
    "product_id, name, price_str, in_stock_str = parts\n",
    "\n",
    "price = float(price_str)\n",
    "in_stock = in_stock_str.lower() == 'true'\n",
    "\n",
    "print(f\"Product: {name} (ID: {product_id}), Price: ${price:.2f}, In Stock: {in_stock}\")"
   ]
  },
  {
   "cell_type": "markdown",
   "id": "26f50bb1",
   "metadata": {},
   "source": [
    "### Usecase Assigning Values from a List or Other Iterable:\n",
    "* assign elements directly from a list to variables, as long as the number of variables matches the number of elements."
   ]
  },
  {
   "cell_type": "code",
   "execution_count": 38,
   "id": "73e698ea",
   "metadata": {},
   "outputs": [
    {
     "name": "stdout",
     "output_type": "stream",
     "text": [
      "Number: 100\n",
      "String: hello\n",
      "Boolean: False\n"
     ]
    }
   ],
   "source": [
    "# Example: Assigning elements from a list.\n",
    "my_list = [100, \"hello\", False]\n",
    "\n",
    "num_val, str_val, bool_val = my_list # Unpacking a list\n",
    "\n",
    "print(f\"Number: {num_val}\")\n",
    "print(f\"String: {str_val}\")\n",
    "print(f\"Boolean: {bool_val}\")"
   ]
  },
  {
   "cell_type": "markdown",
   "id": "2ee36077",
   "metadata": {},
   "source": [
    "---"
   ]
  },
  {
   "cell_type": "markdown",
   "id": "da9d84d9",
   "metadata": {},
   "source": [
    "### Tuple Conversion\n",
    "\n",
    "*  process of converting other iterable data types (like lists, strings, sets, or dictionaries) into a tuple, or converting a tuple into another data type. The primary way to do this is using the built-in tuple() constructor.\n",
    "* refers to the process of transforming data from other types into a tuple, or transforming a tuple into other types. It's an operation you perform using the tuple() constructor (or other constructors like list(), set(), str() etc., to convert from a tuple).\n",
    "\n",
    "* Tuple items are indexed\n",
    "  * var0 = value0\n",
    "\n",
    "### used when \n",
    "* you need the specific properties of a tuple: immutability, hashability (for dictionary keys/set elements), or to enforce a fixed structure for a collection of items."
   ]
  },
  {
   "cell_type": "code",
   "execution_count": 39,
   "id": "7cbb5272",
   "metadata": {},
   "outputs": [],
   "source": [
    "my_list = [1, 2, 3]\n",
    "my_tuple = tuple(my_list) # my_tuple is (1, 2, 3)\n",
    "\n",
    "my_string = \"hello\"\n",
    "tuple_from_string = tuple(my_string) # tuple_from_string is ('h', 'e', 'l', 'l', 'o')\n",
    "\n",
    "my_set = {1, 2, 3}\n",
    "tuple_from_set = tuple(my_set) # tuple_from_set is (1, 2, 3) (order not guaranteed from set)\n",
    "\n",
    "my_dict = {'a': 1, 'b': 2}\n",
    "tuple_from_dict_keys = tuple(my_dict) # tuple_from_dict_keys is ('a', 'b')\n",
    "tuple_from_dict_values = tuple(my_dict.values()) # tuple_from_dict_values is (1, 2)\n",
    "tuple_from_dict_items = tuple(my_dict.items()) # tuple_from_dict_items is (('a', 1), ('b', 2))"
   ]
  },
  {
   "cell_type": "markdown",
   "id": "1bdff546",
   "metadata": {},
   "source": [
    "### Use Cases for Tuple Conversion - Ensuring Immutability\n",
    "* Scenario: A list or other mutable sequence that you want to prevent from being accidentally modified later in your code. Converting it to a tuple provides this guarantee. \n",
    "* Crucial for `data integrity`, especially when passing data around different parts of a program or to functions that should not alter the original data.\n",
    "  * Example: Protecting a list of configuration settings."
   ]
  },
  {
   "cell_type": "code",
   "execution_count": 40,
   "id": "43521f4b",
   "metadata": {},
   "outputs": [
    {
     "name": "stdout",
     "output_type": "stream",
     "text": [
      "('debug_mode', 'logging_level', 'max_connections')\n",
      "Error: 'tuple' object does not support item assignment\n"
     ]
    }
   ],
   "source": [
    "mutable_settings = [\"debug_mode\", \"logging_level\", \"max_connections\"]\n",
    "# In a different part of the code, someone might accidentally do:\n",
    "# mutable_settings.append(\"new_setting\") # This would modify the original list\n",
    "\n",
    "# Convert to tuple for immutability\n",
    "immutable_settings = tuple(mutable_settings)\n",
    "\n",
    "print(immutable_settings)\n",
    "# Output: ('debug_mode', 'logging_level', 'max_connections')\n",
    "\n",
    "# Now, trying to modify will raise an error:\n",
    "try:\n",
    "    immutable_settings[0] = \"production_mode\"\n",
    "except TypeError as e:\n",
    "    print(f\"Error: {e}\")\n",
    "# Output: Error: 'tuple' object does not support item assignment"
   ]
  },
  {
   "cell_type": "markdown",
   "id": "e6d18466",
   "metadata": {},
   "source": [
    "### Usecase Tuple Conversion - Using as Dictionary Keys or Set Elements:\n",
    "* Scenario: You need to use a collection of items as a key in a dictionary or as an element in a set. Since lists and sets are mutable, they cannot be hashed and thus cannot be used as dictionary keys or set elements. Tuples, being immutable, can be.\n",
    "  * Example: Using coordinate pairs as keys in a dictionary."
   ]
  },
  {
   "cell_type": "code",
   "execution_count": 41,
   "id": "ff49e6a7",
   "metadata": {},
   "outputs": [
    {
     "name": "stdout",
     "output_type": "stream",
     "text": [
      "Point A\n",
      "{(2, 'b'), (1, 'a')}\n"
     ]
    }
   ],
   "source": [
    "# List of lists (invalid as dict key):\n",
    "# invalid_key_dict = {[10, 20]: \"value\"} # TypeError: unhashable type: 'list'\n",
    "\n",
    "# Convert to tuple to use as a key\n",
    "points_data = {\n",
    "    tuple([10, 20]): \"Point A\",\n",
    "    tuple([30, 40]): \"Point B\"\n",
    "}\n",
    "print(points_data[tuple([10, 20])])\n",
    "# Output: Point A\n",
    "\n",
    "# Another example: storing unique combinations in a set\n",
    "list_of_pairs = [(1, 2), (2, 1), (1, 2), (3, 4)]\n",
    "# If we had lists inside:\n",
    "# list_of_mutable_pairs = [[1, 2], [2, 1], [1, 2], [3, 4]]\n",
    "# unique_pairs_set = set(list_of_mutable_pairs) # TypeError: unhashable type: 'list'\n",
    "\n",
    "# Conversion to tuple is implicit when creating the initial list,\n",
    "# but if converting from a list of lists:\n",
    "list_of_lists_data = [[1, 'a'], [2, 'b'], [1, 'a']]\n",
    "unique_tuples = set(tuple(item) for item in list_of_lists_data)\n",
    "print(unique_tuples)\n",
    "# Output: {(2, 'b'), (1, 'a')}"
   ]
  },
  {
   "cell_type": "markdown",
   "id": "b8066785",
   "metadata": {},
   "source": [
    "### More use cases Tupler conversation\n",
    "* Returning Multiple Values from an Iterator/Generator\n",
    "* Creating a Fixed Snapshot of Data\n",
    "* Optimizing Memory/Performance:"
   ]
  },
  {
   "cell_type": "markdown",
   "id": "f4cb03c3",
   "metadata": {},
   "source": [
    "---\n",
    "\n",
    "### membership operator"
   ]
  },
  {
   "cell_type": "code",
   "execution_count": 42,
   "id": "62f8a4b1",
   "metadata": {},
   "outputs": [
    {
     "name": "stdout",
     "output_type": "stream",
     "text": [
      "True\n",
      "True\n"
     ]
    }
   ],
   "source": [
    "numbers = (1, 2, 3, 4, 5)\n",
    "\n",
    "# Check if 3 is in the tuple\n",
    "print(3 in numbers)  # Output: True\n",
    "\n",
    "# Check if 10 is not in the tuple\n",
    "print(10 not in numbers)  # Output: True"
   ]
  },
  {
   "cell_type": "markdown",
   "id": "4d42fcf6",
   "metadata": {},
   "source": [
    "### Usecases Representing Fixed Collections of Related Data (Records):\n",
    "  * When you have a fixed number of items that logically belong together and their order is important, tuples are an excellent choice. \n",
    "  * Think of them like a lightweight, immutable record or a row in a spreadsheet where the columns are predefined.\n",
    "  * tuples are excellent for fixed, ordered collections of data, especially when immutability is desired or required (e.g., for dictionary keys). They often work seamlessly with Python's packing and unpacking features to make code concise and readable."
   ]
  },
  {
   "cell_type": "code",
   "execution_count": 43,
   "id": "fad482ea",
   "metadata": {},
   "outputs": [
    {
     "name": "stdout",
     "output_type": "stream",
     "text": [
      "X-coordinate of point_2d: 10\n",
      "Y-coordinate of point_2d: 25\n"
     ]
    }
   ],
   "source": [
    "point_2d = (10, 25)\n",
    "point_3d = (-5, 12, 30)\n",
    "\n",
    "print(f\"X-coordinate of point_2d: {point_2d[0]}\")\n",
    "print(f\"Y-coordinate of point_2d: {point_2d[1]}\")"
   ]
  },
  {
   "cell_type": "markdown",
   "id": "78ba0d1a",
   "metadata": {},
   "source": [
    "### Usecase Function Return Values:\n",
    "  * Functions in Python can only return a single object. To return multiple logical values, you can \"pack\" them into a tuple. This is often combined with \"tuple unpacking\" when calling the function."
   ]
  },
  {
   "cell_type": "code",
   "execution_count": 44,
   "id": "17397ee0",
   "metadata": {},
   "outputs": [
    {
     "name": "stdout",
     "output_type": "stream",
     "text": [
      "Min: 5, Max: 30, Average: 16.0\n"
     ]
    }
   ],
   "source": [
    "def get_min_max_avg(numbers):\n",
    "    if not numbers:\n",
    "        return None, None, None # Return None for all if list is empty\n",
    "    min_val = min(numbers)\n",
    "    max_val = max(numbers)\n",
    "    avg_val = sum(numbers) / len(numbers)\n",
    "    return min_val, max_val, avg_val # Tuple packing\n",
    "\n",
    "data = [10, 20, 5, 30, 15]\n",
    "minimum, maximum, average = get_min_max_avg(data) # Tuple unpacking\n",
    "\n",
    "print(f\"Min: {minimum}, Max: {maximum}, Average: {average}\")\n",
    "# Output: Min: 5, Max: 30, Average: 16.0"
   ]
  },
  {
   "cell_type": "markdown",
   "id": "a52c506b",
   "metadata": {},
   "source": [
    "### Usecase Dictionary Keys (Because Tuples are Hashable/Immutable)\n",
    "  * Unlike lists, tuples are immutable, which means their content cannot be changed after creation. This immutability makes them \"hashable,\" a requirement for objects to be used as keys in dictionaries or elements in sets.\n",
    "\n",
    "  * Example: Storing Data with Composite Keys:\n",
    "    * If you need to use a combination of values as a key (e.g., coordinates for a grid, or a first name and last name)."
   ]
  },
  {
   "cell_type": "code",
   "execution_count": 45,
   "id": "b35c0fa6",
   "metadata": {},
   "outputs": [
    {
     "name": "stdout",
     "output_type": "stream",
     "text": [
      "Population of New York: 8400000\n"
     ]
    }
   ],
   "source": [
    "city_populations = {\n",
    "    (\"New York\", \"NY\"): 8_400_000,\n",
    "    (\"Los Angeles\", \"CA\"): 3_900_000,\n",
    "    (\"Chicago\", \"IL\"): 2_700_000\n",
    "}\n",
    "\n",
    "# Accessing data using the tuple key\n",
    "print(f\"Population of New York: {city_populations[('New York', 'NY')]}\")"
   ]
  },
  {
   "cell_type": "code",
   "execution_count": 46,
   "id": "ec32e866",
   "metadata": {},
   "outputs": [
    {
     "name": "stdout",
     "output_type": "stream",
     "text": [
      "John Doe's ID: EMP001\n"
     ]
    }
   ],
   "source": [
    "# example: mapping employee names to their IDs\n",
    "employee_ids = {\n",
    "    (\"John\", \"Doe\"): \"EMP001\",\n",
    "    (\"Jane\", \"Smith\"): \"EMP002\"\n",
    "}\n",
    "print(f\"John Doe's ID: {employee_ids[('John', 'Doe')]}\")"
   ]
  },
  {
   "cell_type": "markdown",
   "id": "edda8c51",
   "metadata": {},
   "source": [
    "### Usecase Looping and Iteration (Unpacking):\n",
    "* used in for loops, especially when iterating over items that are naturally paired or grouped."
   ]
  },
  {
   "cell_type": "code",
   "execution_count": 47,
   "id": "2f199583",
   "metadata": {},
   "outputs": [
    {
     "name": "stdout",
     "output_type": "stream",
     "text": [
      "name: Alice\n",
      "age: 30\n",
      "city: London\n"
     ]
    }
   ],
   "source": [
    "# Example: Iterating Over Key-Value Pairs of a Dictionary (.items()):\n",
    "# The .items() method of a dictionary returns an iterable of (key, value) tuples.\n",
    "\n",
    "person = {\"name\": \"Alice\", \"age\": 30, \"city\": \"London\"}\n",
    "\n",
    "for key, value in person.items():\n",
    "    print(f\"{key}: {value}\")"
   ]
  },
  {
   "cell_type": "code",
   "execution_count": 48,
   "id": "cd8e58d6",
   "metadata": {},
   "outputs": [
    {
     "name": "stdout",
     "output_type": "stream",
     "text": [
      "Alice scored 95\n",
      "Bob scored 88\n",
      "Charlie scored 92\n"
     ]
    }
   ],
   "source": [
    "# Example: Iterating Over Paired Lists (zip()):\n",
    "# zip() function combines elements from multiple iterables into tuples.\n",
    "\n",
    "names = [\"Alice\", \"Bob\", \"Charlie\"]\n",
    "scores = [95, 88, 92]\n",
    "\n",
    "for name, score in zip(names, scores):\n",
    "    print(f\"{name} scored {score}\")"
   ]
  },
  {
   "cell_type": "markdown",
   "id": "78387e08",
   "metadata": {},
   "source": [
    "### usecase Data Integrity (Immutability):\n",
    "* Because tuples are immutable, they provide a level of data integrity. Once created, you can be sure that the tuple's contents will not accidentally change later in the program. This can be useful for constants or data that should not be modified."
   ]
  },
  {
   "cell_type": "code",
   "execution_count": 49,
   "id": "82626ef8",
   "metadata": {},
   "outputs": [],
   "source": [
    "DATABASE_CREDENTIALS = (\"localhost\", 5432, \"myuser\", \"mypassword\", \"mydb\")\n",
    "API_ENDPOINTS = (\"https://api.example.com/v1\", \"https://auth.example.com/oauth\")\n",
    "\n",
    "# You cannot do: DATABASE_CREDENTIALS[0] = \"newhost\" # This would raise a TypeError"
   ]
  },
  {
   "cell_type": "markdown",
   "id": "7a61e2b0",
   "metadata": {},
   "source": [
    "---\n",
    "\n",
    " ||[back](../index.html)"
   ]
  }
 ],
 "metadata": {
  "jupytext": {
   "cell_metadata_filter": "-all",
   "main_language": "python",
   "notebook_metadata_filter": "-all"
  },
  "kernelspec": {
   "display_name": ".venv",
   "language": "python",
   "name": "python3"
  },
  "language_info": {
   "codemirror_mode": {
    "name": "ipython",
    "version": 3
   },
   "file_extension": ".py",
   "mimetype": "text/x-python",
   "name": "python",
   "nbconvert_exporter": "python",
   "pygments_lexer": "ipython3",
   "version": "3.12.3"
  }
 },
 "nbformat": 4,
 "nbformat_minor": 5
}
