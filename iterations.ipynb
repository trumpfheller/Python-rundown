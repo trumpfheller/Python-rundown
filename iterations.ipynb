{
 "cells": [
  {
   "cell_type": "markdown",
   "id": "0dff5a09-e9bd-4823-b17e-fda47b0f0454",
   "metadata": {},
   "source": [
    "### For loop"
   ]
  },
  {
   "cell_type": "code",
   "execution_count": 3,
   "id": "3b64c840-3098-4ffd-a8b8-3ba05ac427fd",
   "metadata": {},
   "outputs": [
    {
     "name": "stdout",
     "output_type": "stream",
     "text": [
      "a\n",
      "b\n",
      "c\n"
     ]
    }
   ],
   "source": [
    "mylist = ['a','b','c']\n",
    "for ch in mylist:\n",
    "    print(ch)"
   ]
  },
  {
   "cell_type": "markdown",
   "id": "767f7639-8c7e-4188-bf60-963225112262",
   "metadata": {},
   "source": [
    "### While loop"
   ]
  },
  {
   "cell_type": "code",
   "execution_count": 2,
   "id": "372e70ec-087c-4048-b81e-6804d462bcdb",
   "metadata": {},
   "outputs": [
    {
     "name": "stdout",
     "output_type": "stream",
     "text": [
      "hello\n",
      "hello\n",
      "hello\n",
      "done\n"
     ]
    }
   ],
   "source": [
    "i = 0\n",
    "while i<3:\n",
    "    print('hello')\n",
    "    i = i+1\n",
    "print('done')"
   ]
  },
  {
   "cell_type": "markdown",
   "id": "5f661b50-a4ad-4072-8bb5-8a92eb43663d",
   "metadata": {},
   "source": [
    "### While loop with continue"
   ]
  },
  {
   "cell_type": "code",
   "execution_count": null,
   "id": "84c8a703-25a5-4f61-bff2-5df3253eba0e",
   "metadata": {},
   "outputs": [],
   "source": [
    "while True:\n",
    "    s = input(\"Enter a sentence: \")\n",
    "    if len(s) == 0:\n",
    "        continue\n",
    "    words = s.split(\n",
    "        print(f\"{len(words)} words\")\n",
    "    print(\"done\")\n",
    "    )\n",
    "# now I have to hit Control C to exit the infinite loop."
   ]
  },
  {
   "cell_type": "markdown",
   "id": "b3aa851e-5dd5-4082-90c0-31c37af7edba",
   "metadata": {},
   "source": [
    "### While loop with Break"
   ]
  },
  {
   "cell_type": "code",
   "execution_count": null,
   "id": "332120dc-259d-436c-a86d-2c23c5cdb25c",
   "metadata": {},
   "outputs": [
    {
     "name": "stdin",
     "output_type": "stream",
     "text": [
      "Enter a sentence:  Mein Name is mike\n"
     ]
    },
    {
     "name": "stdout",
     "output_type": "stream",
     "text": [
      "4 words\n",
      "done\n"
     ]
    }
   ],
   "source": [
    "while True:\n",
    "    s = input(\"Enter a sentence: \")\n",
    "    if len(s) == 0:\n",
    "        break\n",
    "    words = s.split()\n",
    "    #If no separator is provided to the split(), it splits the string based on whitespace characters by default.\n",
    "    print(f\"{len(words)} words\")\n",
    "    print(\"done\")"
   ]
  },
  {
   "cell_type": "markdown",
   "id": "1e5c7729-a973-43df-9c1b-79bcf633c66f",
   "metadata": {},
   "source": [
    "### Range example 1"
   ]
  },
  {
   "cell_type": "code",
   "execution_count": 4,
   "id": "440d168c-a9e9-4d99-a709-87f0319d70cd",
   "metadata": {},
   "outputs": [
    {
     "name": "stdout",
     "output_type": "stream",
     "text": [
      "0 1 2 3 4 5 6 7 8 9 "
     ]
    }
   ],
   "source": [
    "# Iterate through numbers from 0 to 9\n",
    "for i in range(10):\n",
    "    # no need to initialize (i) since\n",
    "    # when you use a for loop with the range(), the loop automatically initializes the loop variable (i) for you.\n",
    "    print(i, end=' ')"
   ]
  },
  {
   "cell_type": "markdown",
   "id": "8424e01d-aee9-48f3-87a9-0d460b9f3068",
   "metadata": {},
   "source": [
    "### Range example 2"
   ]
  },
  {
   "cell_type": "code",
   "execution_count": null,
   "id": "d9c2077d-ed9f-4088-a61e-52fe00c9c9ff",
   "metadata": {},
   "outputs": [],
   "source": [
    "r = range(20, 50, 5)\n",
    "print(r)\n",
    "# Output\n",
    "range(20, 50, 5)"
   ]
  },
  {
   "cell_type": "markdown",
   "id": "ced2364f-e19a-440b-adb0-7034b249566e",
   "metadata": {},
   "source": [
    "### Convert it to a list"
   ]
  },
  {
   "cell_type": "code",
   "execution_count": null,
   "id": "9c7e82a2-9f6d-44d9-acab-657a76d04f3f",
   "metadata": {},
   "outputs": [],
   "source": [
    "r = range(20, 50, 5)\n",
    "print(list(r))\n",
    "# Output\n",
    "[20,25,30,35,40,45]"
   ]
  },
  {
   "cell_type": "code",
   "execution_count": 5,
   "id": "43a9fe4a-479b-4c0e-aba0-fab168626631",
   "metadata": {},
   "outputs": [
    {
     "name": "stdout",
     "output_type": "stream",
     "text": [
      "['apple', 'banana', 'orange']\n"
     ]
    }
   ],
   "source": [
    "string = \"apple,banana,orange\"\n",
    "\n",
    "# Splitting the string using comma as separator\n",
    "result = string.split(',')\n",
    "\n",
    "print(result)  # Output: ['apple', 'banana', 'orange']"
   ]
  },
  {
   "cell_type": "markdown",
   "id": "046099d1-f3a9-4119-ac80-5285e204ceea",
   "metadata": {},
   "source": [
    "## Programming Patterns\n",
    "\n",
    "* Tranform Pattern\n",
    "* Filter Pattern\n",
    "* Nested Loops Pattern"
   ]
  },
  {
   "cell_type": "markdown",
   "id": "b4a02558-da5e-48ca-8037-26df2d4ed4c1",
   "metadata": {},
   "source": [
    "### Transform Pattern - take a list and raise to the second power"
   ]
  },
  {
   "cell_type": "code",
   "execution_count": null,
   "id": "7b147f62-959d-4b20-a8b3-7df05251d9d8",
   "metadata": {},
   "outputs": [],
   "source": [
    "mylist = [1,2,3,4,5,6,7,8]\n",
    "newlist = []\n",
    "for n in mylist:\n",
    "    newlist.append(n ** 2)\n",
    "print(newlist)"
   ]
  },
  {
   "cell_type": "markdown",
   "id": "ed82e40b-2548-4217-856a-c6bdede3317b",
   "metadata": {},
   "source": [
    "### Filter Pattern\n",
    "\n",
    "* Select items that meet specitied conditions\n",
    "* Input: Sequence\n",
    "* Processing: if statement\n",
    "* Output: sequence subset"
   ]
  },
  {
   "cell_type": "code",
   "execution_count": null,
   "id": "4e15af9c-144f-43aa-8008-6d71d4d5ec30",
   "metadata": {},
   "outputs": [],
   "source": [
    "mylist = [1,2,3,4,5,6,7,8]\n",
    "newlist = []\n",
    "for n in mylist:\n",
    "    if n% 2 == 0:\n",
    "        newlist.append(n)\n",
    "print(newlist)"
   ]
  },
  {
   "cell_type": "markdown",
   "id": "9cb5c6bd-176a-42a0-a619-8cdfc4207e57",
   "metadata": {},
   "source": [
    "\n",
    "#### Output\n",
    "[2,4,6,8]"
   ]
  },
  {
   "cell_type": "markdown",
   "id": "1320c00c-97cf-4ddd-a701-95d2fd6e927c",
   "metadata": {},
   "source": [
    "### Nested Loops\n",
    "\n",
    "* Loop inside a loop\n",
    "  * an inner loop is completed for each iteration of an outer loop\n",
    "\n",
    "\n",
    "* outer loop\n",
    "  * inner loop\n",
    "    * innerer loop body\n",
    "  * outer loop body"
   ]
  },
  {
   "cell_type": "code",
   "execution_count": null,
   "id": "2874feba-43e7-405b-804f-c4579aeb2b41",
   "metadata": {},
   "outputs": [],
   "source": [
    "adjectives = ['frozen','cooked','roasted','boiled']\n",
    "nouns = ['fish','veggies','chicken']\n",
    "\n",
    "for adj in adjectives:\n",
    "    # outer loop\n",
    "    for noun in nouns:\n",
    "        # inner loop\n",
    "        print(f\"{adj} {noun}\", end=\"\\t\")\n",
    "    print()"
   ]
  },
  {
   "cell_type": "markdown",
   "id": "e42ebb17-6e4c-46ff-9243-ade7bd731693",
   "metadata": {},
   "source": [
    "# Output\n",
    "```\n",
    "frozen fish frozen veggies frozen chicken\n",
    "cooked fish cooked veggies cooked chicken\n",
    "roasted fish roasted veggies roasted chicken\n",
    "```"
   ]
  },
  {
   "cell_type": "code",
   "execution_count": null,
   "id": "a0d1dacc-31ca-4c91-8709-bfacedd9681a",
   "metadata": {},
   "outputs": [],
   "source": []
  }
 ],
 "metadata": {
  "kernelspec": {
   "display_name": "Python 3 (ipykernel)",
   "language": "python",
   "name": "python3"
  },
  "language_info": {
   "codemirror_mode": {
    "name": "ipython",
    "version": 3
   },
   "file_extension": ".py",
   "mimetype": "text/x-python",
   "name": "python",
   "nbconvert_exporter": "python",
   "pygments_lexer": "ipython3",
   "version": "3.12.3"
  }
 },
 "nbformat": 4,
 "nbformat_minor": 5
}
