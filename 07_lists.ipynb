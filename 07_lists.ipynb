{
 "cells": [
  {
   "cell_type": "markdown",
   "id": "63cf9112",
   "metadata": {
    "vscode": {
     "languageId": "raw"
    }
   },
   "source": [
    "## Lists\n",
    "\n",
    "* Containers of items stored in a sequence\n",
    "* are mutable - items can be changed\n",
    "* have all sequence operators, functions and methods"
   ]
  },
  {
   "cell_type": "markdown",
   "id": "ab31b4d1",
   "metadata": {},
   "source": [
    "\n",
    "\n",
    "|   | Sequence  | Mutable  |\n",
    "|---|---|---|\n",
    "|  List | YES  | YES  |\n",
    "|  tuple | YES  | NO  |\n",
    "|  String | YES  | NO  |\n",
    "|  Range | YES  | NO  |\n",
    "|  Set | NO | YES  |\n",
    "| Dict  |  NO | YES  |\n"
   ]
  },
  {
   "cell_type": "markdown",
   "id": "9816c8e6",
   "metadata": {},
   "source": [
    "### Set up\n",
    "\n",
    "```bash \n",
    "python3 -m venv .venv\n",
    "source .venv/bin/activate\n",
    "pip install notebook\n",
    "jupyter notebook &\n",
    "```"
   ]
  },
  {
   "cell_type": "markdown",
   "id": "0765c506",
   "metadata": {},
   "source": [
    "### Lists Literals\n",
    "\n",
    "* a list literal is a way to directly create a list by specifying its elements within square brackets [].\n",
    "* when you want to initialize a list with a known set of elements. "
   ]
  },
  {
   "cell_type": "code",
   "execution_count": 15,
   "id": "b9e04f33",
   "metadata": {},
   "outputs": [],
   "source": [
    "my_list = [1, 2, 3, 4, 5]\n",
    "emails = ['info@berkeley.edu','facts@wikipedia.com', 'support@irs.com']\n",
    "colors = [\"red\", \"green\", \"blue\", \"yellow\"]"
   ]
  },
  {
   "cell_type": "markdown",
   "id": "262579bd",
   "metadata": {},
   "source": [
    "### Lists Functions `list(container)`\n",
    "* to convert various iterable \"containers\" into a list.\n",
    "* return a list from a given container"
   ]
  },
  {
   "cell_type": "code",
   "execution_count": 16,
   "id": "884c7744",
   "metadata": {},
   "outputs": [
    {
     "name": "stdout",
     "output_type": "stream",
     "text": [
      "original tuple: (1, 2, 3, 4)\n",
      "List from tuple: [1, 2, 3, 4]\n",
      "List from string: ['h', 'e', 'l', 'l', 'o']\n",
      "List from set: [5, 6, 7]\n",
      "List from dictionary (keys): ['a', 'b', 'c']\n",
      "List from range: [0, 1, 2, 3, 4]\n",
      "List from generator: [0, 2, 4]\n"
     ]
    }
   ],
   "source": [
    "# From a tuple\n",
    "my_tuple = (1, 2, 3, 4)\n",
    "print(f\"original tuple: {my_tuple}\")\n",
    "new_list_from_tuple = list(my_tuple)\n",
    "print(f\"List from tuple: {new_list_from_tuple}\")\n",
    "\n",
    "# From a string\n",
    "my_string = \"hello\"\n",
    "new_list_from_string = list(my_string)\n",
    "print(f\"List from string: {new_list_from_string}\")\n",
    "\n",
    "# From a set (note: sets are unordered, so the order in the list is not guaranteed)\n",
    "my_set = {5, 6, 7}\n",
    "new_list_from_set = list(my_set)\n",
    "print(f\"List from set: {new_list_from_set}\")\n",
    "\n",
    "# From a dictionary (it creates a list of keys)\n",
    "my_dict = {\"a\": 1, \"b\": 2, \"c\": 3}\n",
    "new_list_from_dict = list(my_dict)\n",
    "print(f\"List from dictionary (keys): {new_list_from_dict}\")\n",
    "\n",
    "# From a range object\n",
    "my_range = range(5)  # Generates numbers from 0 to 4\n",
    "new_list_from_range = list(my_range)\n",
    "print(f\"List from range: {new_list_from_range}\")\n",
    "\n",
    "# From a generator expression\n",
    "my_generator = (x * 2 for x in range(3))\n",
    "new_list_from_generator = list(my_generator)\n",
    "print(f\"List from generator: {new_list_from_generator}\")"
   ]
  },
  {
   "cell_type": "markdown",
   "id": "dd327bee",
   "metadata": {},
   "source": [
    "### Inherited Lists Operators"
   ]
  },
  {
   "cell_type": "markdown",
   "id": "61714c56",
   "metadata": {},
   "source": [
    "* index operator `lst[index]`"
   ]
  },
  {
   "cell_type": "code",
   "execution_count": 17,
   "id": "e34091b9",
   "metadata": {},
   "outputs": [
    {
     "name": "stdout",
     "output_type": "stream",
     "text": [
      "The first item is: apple\n",
      "The last item is: date\n",
      "Modified list: ['apple', 'blueberry', 'cherry', 'date']\n"
     ]
    }
   ],
   "source": [
    "my_list = [\"apple\", \"banana\", \"cherry\", \"date\"]\n",
    "\n",
    "# Accessing an element by its positive index (0-based)\n",
    "first_item = my_list[0]\n",
    "print(f\"The first item is: {first_item}\")  \n",
    "# Output: The first item is: apple\n",
    "\n",
    "# Accessing an element by its negative index (from the end)\n",
    "last_item = my_list[-1]\n",
    "print(f\"The last item is: {last_item}\")   \n",
    "# Output: The last item is: date\n",
    "\n",
    "# Modifying an element using its index\n",
    "my_list[1] = \"blueberry\"\n",
    "print(f\"Modified list: {my_list}\")  \n",
    "# Output: Modified list: ['apple', 'blueberry', 'cherry', 'date']"
   ]
  },
  {
   "cell_type": "markdown",
   "id": "3d72b763",
   "metadata": {},
   "source": [
    "* slice index operator `lst[start:stop]`"
   ]
  },
  {
   "cell_type": "code",
   "execution_count": 18,
   "id": "8060f201",
   "metadata": {},
   "outputs": [
    {
     "name": "stdout",
     "output_type": "stream",
     "text": [
      "Slice from index 2 to 5: [30, 40, 50]\n",
      "Slice from beginning to index 4: [10, 20, 30, 40]\n",
      "Slice from index 6 to end: [70, 80, 90]\n",
      "Slice of entire list (copy): [10, 20, 30, 40, 50, 60, 70, 80, 90]\n",
      "Slice last 3 elements: [70, 80, 90]\n",
      "Slice all but last 2 elements: [10, 20, 30, 40, 50, 60, 70]\n"
     ]
    }
   ],
   "source": [
    "# Example list\n",
    "my_list = [10, 20, 30, 40, 50, 60, 70, 80, 90]\n",
    "\n",
    "# Slice from index 2 (inclusive) to index 5 (exclusive)\n",
    "sliced_list_1 = my_list[2:5]\n",
    "print(f\"Slice from index 2 to 5: {sliced_list_1}\")\n",
    "\n",
    "# Slice from the beginning to index 4 (exclusive)\n",
    "sliced_list_2 = my_list[:4]\n",
    "print(f\"Slice from beginning to index 4: {sliced_list_2}\")\n",
    "\n",
    "# Slice from index 6 (inclusive) to the end\n",
    "sliced_list_3 = my_list[6:]\n",
    "print(f\"Slice from index 6 to end: {sliced_list_3}\")\n",
    "\n",
    "# Slice the entire list (creates a copy)\n",
    "sliced_list_4 = my_list[:]\n",
    "print(f\"Slice of entire list (copy): {sliced_list_4}\")\n",
    "\n",
    "# Slice with a negative start index (from the end)\n",
    "sliced_list_5 = my_list[-3:]\n",
    "print(f\"Slice last 3 elements: {sliced_list_5}\")\n",
    "\n",
    "# Slice with negative stop index\n",
    "sliced_list_6 = my_list[:-2]\n",
    "print(f\"Slice all but last 2 elements: {sliced_list_6}\")"
   ]
  },
  {
   "cell_type": "markdown",
   "id": "ac841776",
   "metadata": {},
   "source": [
    "* equality operator `lst1==lst2`"
   ]
  },
  {
   "cell_type": "code",
   "execution_count": null,
   "id": "9fa21109",
   "metadata": {},
   "outputs": [],
   "source": []
  },
  {
   "cell_type": "markdown",
   "id": "d98b28eb",
   "metadata": {},
   "source": [
    "* inequality operator `lst1!=lst2`"
   ]
  },
  {
   "cell_type": "code",
   "execution_count": null,
   "id": "c446bb7b",
   "metadata": {},
   "outputs": [],
   "source": []
  },
  {
   "cell_type": "markdown",
   "id": "c5029f75",
   "metadata": {},
   "source": [
    "* membership operator `item in lst`"
   ]
  },
  {
   "cell_type": "code",
   "execution_count": 19,
   "id": "ef784741",
   "metadata": {},
   "outputs": [
    {
     "name": "stdout",
     "output_type": "stream",
     "text": [
      "Is 'grape' in the list? False\n",
      "Yes, 'apple' is one of the fruits.\n"
     ]
    }
   ],
   "source": [
    "# Define a list\n",
    "fruits = [\"apple\", \"banana\", \"cherry\", \"date\"]\n",
    "\n",
    "# Check if \"grape\" is in the fruits list\n",
    "is_grape_present = \"grape\" in fruits\n",
    "print(f\"Is 'grape' in the list? {is_grape_present}\")\n",
    "\n",
    "# use in conditional statements\n",
    "if \"apple\" in fruits:\n",
    "    print(\"Yes, 'apple' is one of the fruits.\")\n",
    "else:\n",
    "    print(\"No, 'apple' is not in the list.\")"
   ]
  },
  {
   "cell_type": "code",
   "execution_count": 20,
   "id": "8c92bcf1",
   "metadata": {},
   "outputs": [
    {
     "name": "stdout",
     "output_type": "stream",
     "text": [
      "True\n",
      "True\n"
     ]
    }
   ],
   "source": [
    "fruits = ['apple', 'banana', 'cherry', 'date']\n",
    "\n",
    "# Check if 'banana' is in the list\n",
    "print('banana' in fruits)  # Output: True\n",
    "\n",
    "# Check if 'grape' is not in the list\n",
    "print('grape' not in fruits)  # Output: True"
   ]
  },
  {
   "cell_type": "markdown",
   "id": "e43fe6fe",
   "metadata": {},
   "source": [
    "* append operator `lst1+lst2`"
   ]
  },
  {
   "cell_type": "code",
   "execution_count": 21,
   "id": "1565edbe",
   "metadata": {},
   "outputs": [
    {
     "name": "stdout",
     "output_type": "stream",
     "text": [
      "Original list1: [1, 2, 3]\n",
      "Original list2: [4, 5, 6]\n",
      "Combined list (using + operator): [1, 2, 3, 4, 5, 6]\n"
     ]
    }
   ],
   "source": [
    "# Define two lists\n",
    "list1 = [1, 2, 3]\n",
    "list2 = [4, 5, 6]\n",
    "\n",
    "# Concatenate the lists using the + operator\n",
    "combined_list = list1 + list2\n",
    "\n",
    "# Print the original lists and the new combined list\n",
    "print(f\"Original list1: {list1}\")\n",
    "print(f\"Original list2: {list2}\")\n",
    "print(f\"Combined list (using + operator): {combined_list}\")"
   ]
  },
  {
   "cell_type": "markdown",
   "id": "58bbfaf2",
   "metadata": {},
   "source": [
    "* Assignment `lst[index]=value`\n",
    "  * set value at index in lst"
   ]
  },
  {
   "cell_type": "code",
   "execution_count": 22,
   "id": "79937e09",
   "metadata": {},
   "outputs": [
    {
     "name": "stdout",
     "output_type": "stream",
     "text": [
      "Original list: ['apple', 'banana', 'cherry', 'date']\n",
      "Modified list: ['apple', 'grape', 'cherry', 'date']\n",
      "Further modified list: ['apple', 'grape', 'cherry', 'elderberry']\n"
     ]
    }
   ],
   "source": [
    "# Initialize a list\n",
    "fruits = ['apple', 'banana', 'cherry', 'date']\n",
    "\n",
    "# Print the original list\n",
    "print(f\"Original list: {fruits}\")\n",
    "\n",
    "# Assign a new value at index 1 (which is 'banana') to 'grape'\n",
    "fruits[1] = 'grape'\n",
    "\n",
    "# Print the modified list\n",
    "print(f\"Modified list: {fruits}\")\n",
    "\n",
    "# Assign a new value at index 3 (which is 'date') to 'elderberry'\n",
    "fruits[3] = 'elderberry'\n",
    "print(f\"Further modified list: {fruits}\")"
   ]
  },
  {
   "cell_type": "markdown",
   "id": "9ae8a908",
   "metadata": {},
   "source": [
    "* Delete `del lst[index]`\n",
    "  * delete an item in lst at index\n",
    "  * deltes an item at a specified index in a list"
   ]
  },
  {
   "cell_type": "code",
   "execution_count": null,
   "id": "5eba9957",
   "metadata": {},
   "outputs": [],
   "source": []
  },
  {
   "cell_type": "markdown",
   "id": "5442b308",
   "metadata": {},
   "source": [
    "* `del lst[start:stop]`\n",
    "  * delete a slice from start to stop"
   ]
  },
  {
   "cell_type": "code",
   "execution_count": 25,
   "id": "6bfc6562",
   "metadata": {},
   "outputs": [
    {
     "name": "stdout",
     "output_type": "stream",
     "text": [
      "Original list: [10, 20, 30, 40, 50, 60, 70, 80, 90]\n",
      "List after del my_list[2:5]: [10, 20, 60, 70, 80, 90]\n",
      "\n",
      "Original another_list: ['a', 'b', 'c', 'd', 'e', 'f']\n",
      "List after del another_list[:3]: ['d', 'e', 'f']\n",
      "List after del another_list[1:]: ['d']\n"
     ]
    }
   ],
   "source": [
    "# Create a list\n",
    "my_list = [10, 20, 30, 40, 50, 60, 70, 80, 90]\n",
    "print(f\"Original list: {my_list}\")\n",
    "\n",
    "# Remove elements from index 2 (inclusive) to index 5 (exclusive)\n",
    "# remove 30, 40, and 50\n",
    "del my_list[2:5]\n",
    "print(f\"List after del my_list[2:5]: {my_list}\")\n",
    "\n",
    "# omitted start or stop indices\n",
    "another_list = ['a', 'b', 'c', 'd', 'e', 'f']\n",
    "print(f\"\\nOriginal another_list: {another_list}\")\n",
    "\n",
    "# Remove elements from the beginning up to index 3 (exclusive)\n",
    "# 'a', 'b', and 'c'\n",
    "del another_list[:3]\n",
    "print(f\"List after del another_list[:3]: {another_list}\")\n",
    "\n",
    "# Remove elements from index 1 (inclusive) to the end of the list\n",
    "# This will remove 'e' and 'f'\n",
    "del another_list[1:]\n",
    "print(f\"List after del another_list[1:]: {another_list}\")"
   ]
  },
  {
   "cell_type": "markdown",
   "id": "e0696406",
   "metadata": {},
   "source": [
    "---\n",
    "\n",
    "### a list of dictionaries \n",
    "* common and powerful data structure, especially when dealing with collections of structured data, much like rows in a spreadsheet or records in a database.\n",
    "* whenever you encounter a collection of distinct entities, where each entity has a set of named properties, a list of dictionaries is often the most straightforward and flexible way to represent that data in Python."
   ]
  },
  {
   "cell_type": "code",
   "execution_count": 28,
   "id": "aedb9c94",
   "metadata": {},
   "outputs": [
    {
     "name": "stdout",
     "output_type": "stream",
     "text": [
      "John\n",
      "25\n",
      "Salt Lake City\n"
     ]
    }
   ],
   "source": [
    "list_of_dicts = [\n",
    "    {\"name\": \"John\", \"age\": 30, \"city\": \"New York\"},\n",
    "    {\"name\": \"Alice\", \"age\": 25, \"city\": \"San Francisco\"},\n",
    "    {\"name\": \"Bob\", \"age\": 35, \"city\": \"Salt Lake City\"}\n",
    "]\n",
    "\n",
    "# Accessing elements in the list of dictionaries\n",
    "print(list_of_dicts[0][\"name\"])  \n",
    "print(list_of_dicts[1][\"age\"])   \n",
    "print(list_of_dicts[2][\"city\"])  "
   ]
  },
  {
   "cell_type": "markdown",
   "id": "a16008b2",
   "metadata": {},
   "source": [
    "### usecase 1 Representing a Table or Database Query Result:\n",
    "  * Scenario: Each dictionary in the list represents a \"row\" or \"record,\" and the keys of the dictionary represent the \"column names\" or \"fields\" for that record.\n",
    "  *  Each dictionary clearly defines a single entity's attributes, and the list allows you to have many such entities."
   ]
  },
  {
   "cell_type": "code",
   "execution_count": 31,
   "id": "30a1c285",
   "metadata": {},
   "outputs": [
    {
     "name": "stdout",
     "output_type": "stream",
     "text": [
      "Alice Smith\n",
      "Alice Smith lives in New York.\n",
      "Charlie Brown lives in New York.\n"
     ]
    }
   ],
   "source": [
    "customers = [\n",
    "    {'id': 1, 'name': 'Alice Smith', 'email': 'alice@example.com', 'city': 'New York'},\n",
    "    {'id': 2, 'name': 'Bob Johnson', 'email': 'bob@example.com', 'city': 'Los Angeles'},\n",
    "    {'id': 3, 'name': 'Charlie Brown', 'email': 'charlie@example.com', 'city': 'New York'}\n",
    "]\n",
    "\n",
    "# Accessing data:\n",
    "print(customers[0]['name']) # Alice Smith\n",
    "for customer in customers:\n",
    "    if customer['city'] == 'New York':\n",
    "        print(f\"{customer['name']} lives in New York.\")"
   ]
  },
  {
   "cell_type": "markdown",
   "id": "d00fb7d5",
   "metadata": {},
   "source": [
    "### usecase 2 Parsing JSON or CSV Data:\n",
    "  * Scenario: When you read data from external sources like web APIs (which often return JSON) or CSV files, a list of dictionaries is a natural way to represent it in Python."
   ]
  },
  {
   "cell_type": "code",
   "execution_count": 32,
   "id": "f1d31e48",
   "metadata": {},
   "outputs": [
    {
     "name": "stdout",
     "output_type": "stream",
     "text": [
      "Laptop is available for $1200.00\n",
      "Mouse is available for $25.00\n"
     ]
    }
   ],
   "source": [
    "import json\n",
    "\n",
    "json_data = \"\"\"\n",
    "[\n",
    "    {\"product_id\": \"P001\", \"name\": \"Laptop\", \"price\": 1200.00, \"in_stock\": true},\n",
    "    {\"product_id\": \"P002\", \"name\": \"Mouse\", \"price\": 25.00, \"in_stock\": true},\n",
    "    {\"product_id\": \"P003\", \"name\": \"Keyboard\", \"price\": 75.00, \"in_stock\": false}\n",
    "]\n",
    "\"\"\"\n",
    "products = json.loads(json_data)\n",
    "\n",
    "for product in products:\n",
    "    if product['in_stock']:\n",
    "        print(f\"{product['name']} is available for ${product['price']:.2f}\")"
   ]
  },
  {
   "cell_type": "markdown",
   "id": "4ac881fb",
   "metadata": {},
   "source": [
    "### usecase3 Configuration Management \n",
    "\n",
    "* Scenario: For applications with multiple, structured configuration options that might be similar but differ slightly.\n",
    "  * Example: Defining multiple database connections, each with its own host, user, password, and database name."
   ]
  },
  {
   "cell_type": "code",
   "execution_count": 33,
   "id": "40c61657",
   "metadata": {},
   "outputs": [
    {
     "name": "stdout",
     "output_type": "stream",
     "text": [
      "Connecting to production DB at prod.db.example.com\n"
     ]
    }
   ],
   "source": [
    "database_connections = [\n",
    "    {'name': 'production_db', 'host': 'prod.db.example.com', 'user': 'prod_user', 'password': 'prod_pass', 'db': 'main_prod'},\n",
    "    {'name': 'analytics_db', 'host': 'analytics.db.example.com', 'user': 'analytics_user', 'password': 'an_pass', 'db': 'data_warehouse'},\n",
    "    {'name': 'dev_db', 'host': 'dev.db.example.com', 'user': 'dev_user', 'password': 'dev_pass', 'db': 'test_app_dev'}\n",
    "]\n",
    "\n",
    "for db_conn in database_connections:\n",
    "    if db_conn['name'] == 'production_db':\n",
    "        print(f\"Connecting to production DB at {db_conn['host']}\")\n",
    "        # ... use db_conn details to establish connection"
   ]
  },
  {
   "cell_type": "markdown",
   "id": "043dee0e",
   "metadata": {
    "lines_to_next_cell": 0
   },
   "source": [
    "### dictionary of lists\n",
    "* a highly versatile data structure, particularly useful when you need to associate multiple values with a single key. This creates a \"one-to-many\" relationship."
   ]
  },
  {
   "cell_type": "code",
   "execution_count": 30,
   "id": "df854fd9",
   "metadata": {},
   "outputs": [
    {
     "name": "stdout",
     "output_type": "stream",
     "text": [
      "['apple', 'banana', 'orange']\n",
      "red\n",
      "3\n"
     ]
    }
   ],
   "source": [
    "# Creating a dictionary of lists\n",
    "dict_of_lists = {\n",
    "    \"fruits\": [\"apple\", \"banana\", \"orange\"],\n",
    "    \"colors\": [\"red\", \"yellow\", \"orange\"],\n",
    "    \"numbers\": [1, 2, 3, 4, 5]\n",
    "}\n",
    "\n",
    "# Accessing elements in the dictionary of lists\n",
    "print(dict_of_lists[\"fruits\"])  \n",
    "print(dict_of_lists[\"colors\"][0])  \n",
    "print(dict_of_lists[\"numbers\"][2])  "
   ]
  },
  {
   "cell_type": "markdown",
   "id": "02dcd440",
   "metadata": {},
   "source": [
    "### Use Case - dictionary of lists\n",
    "\n",
    "1. Grouping Data by a Common Attribute:\n",
    "* Scenario: You have a collection of items, and you want to group them based on a specific characteristic, where multiple items can share that characteristic.\n",
    "  * Products by Category: Key is the product category (e.g., \"Electronics\", \"Clothing\"), and the list holds products within that category.\n",
    "  * Emails by Sender: Key is the sender's email address, and the list contains all emails from that sender.\n",
    "  * Customers by Region: Key is the geographic region, and the list contains customers residing there.\n",
    "Why a dictionary of lists? If you just used a dictionary with a single value, each new item with the same key would overwrite the previous one. A list allows you to store all associated items.\n",
    "\n",
    "2. Implementing a Multi-Value Map (or Multimap):\n",
    "* Scenario: You conceptually need a mapping where each key can correspond to not just one, but a collection of values.\n",
    "  * Word-to-Document Mapping (Simple Inverted Index): In text processing, an inverted index maps a word to all the documents it appears in. The key would be the word, and the list would contain the IDs of documents.\n",
    "  * Event Log with Multiple Occurrences: A key could be an event type (e.g., \"Login Failure\"), and the list contains timestamps or details of each occurrence.\n",
    "  * Tags to Items: If items can have multiple tags, and you want to find all items associated with a particular tag. The key is the tag, and the list is the items.\n",
    "\n",
    "3. Representing Graph Structures (Adjacency List):\n",
    "* Scenario: When modeling graphs, where nodes have connections (edges) to other nodes, an adjacency list is a common and efficient representation.\n",
    "  * Directed Graph: The key is a node, and the list contains all the nodes that the key node has a directed edge to.\n",
    "  * Why a dictionary of lists? A node can be connected to multiple other nodes.\n",
    "\n",
    "4. Tracking History or Sequences:\n",
    "* Scenario: When you need to store a chronological sequence of events or states associated with an identifier.\n",
    "  * User Activity Log: Key is the user ID, and the list contains a sequence of actions or events performed by that user (e.g., logins, purchases, page views, each with a timestamp).\n",
    "  * Stock Price History: Key is the stock ticker symbol, and the list contains daily closing prices or a series of price data points.\n",
    "\n",
    "5. Collecting Data from Iterations:\n",
    "* Scenario: When processing data, you might iterate through items and want to collect related information into groups.\n",
    "  * Parsing a log file where each line might have an identifier, and you want to group all log entries related to that identifier.\n"
   ]
  },
  {
   "cell_type": "markdown",
   "id": "3590e5de",
   "metadata": {},
   "source": [
    "---\n",
    " \n",
    " ||[back](../index.html)"
   ]
  }
 ],
 "metadata": {
  "jupytext": {
   "cell_metadata_filter": "-all",
   "main_language": "python",
   "notebook_metadata_filter": "-all"
  },
  "kernelspec": {
   "display_name": ".venv",
   "language": "python",
   "name": "python3"
  },
  "language_info": {
   "codemirror_mode": {
    "name": "ipython",
    "version": 3
   },
   "file_extension": ".py",
   "mimetype": "text/x-python",
   "name": "python",
   "nbconvert_exporter": "python",
   "pygments_lexer": "ipython3",
   "version": "3.12.3"
  }
 },
 "nbformat": 4,
 "nbformat_minor": 5
}
