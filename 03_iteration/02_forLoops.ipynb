{
 "cells": [
  {
   "cell_type": "markdown",
   "id": "d2b0b366-e5ed-4a63-a667-82d7b1b05348",
   "metadata": {},
   "source": [
    "## Iteration For Loops\n",
    "\n",
    "* Structures for iterating through iterables\n"
   ]
  },
  {
   "cell_type": "code",
   "execution_count": 1,
   "id": "58a1e56f-5d06-4583-9f42-8ea523770288",
   "metadata": {},
   "outputs": [
    {
     "name": "stdout",
     "output_type": "stream",
     "text": [
      "a\n",
      "b\n",
      "c\n"
     ]
    }
   ],
   "source": [
    "mylist = ['a','b','c']\n",
    "for ch in mylist:\n",
    "    print(ch)"
   ]
  },
  {
   "cell_type": "code",
   "execution_count": null,
   "id": "ffb88fed-1435-4b85-a1f4-8b3217bebdec",
   "metadata": {},
   "outputs": [],
   "source": []
  }
 ],
 "metadata": {
  "kernelspec": {
   "display_name": "Python 3 (ipykernel)",
   "language": "python",
   "name": "python3"
  },
  "language_info": {
   "codemirror_mode": {
    "name": "ipython",
    "version": 3
   },
   "file_extension": ".py",
   "mimetype": "text/x-python",
   "name": "python",
   "nbconvert_exporter": "python",
   "pygments_lexer": "ipython3",
   "version": "3.12.3"
  }
 },
 "nbformat": 4,
 "nbformat_minor": 5
}
